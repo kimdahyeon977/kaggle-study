{
  "cells": [
    {
      "cell_type": "code",
      "execution_count": 1,
      "metadata": {
        "colab": {
          "base_uri": "https://localhost:8080/"
        },
        "id": "laCc3YpUvppQ",
        "outputId": "b5d1567f-45b6-464d-95a6-bd3f1b92dfb4"
      },
      "outputs": [
        {
          "output_type": "stream",
          "name": "stdout",
          "text": [
            "Mounted at /content/drive\n",
            "/content/drive/My Drive/computer vision\n"
          ]
        }
      ],
      "source": [
        "# This mounts your Google Drive to the Colab VM.\n",
        "from google.colab import drive\n",
        "drive.mount('/content/drive', force_remount=True)\n",
        "\n",
        "# Enter the foldername in your Drive where you have saved the unzipped\n",
        "# assignment folder, e.g. 'cs231n/assignments/assignment1/'\n",
        "FOLDERNAME ='computer vision'\n",
        "assert FOLDERNAME is not None, \"[!] Enter the foldername.\"\n",
        "\n",
        "# Now that we've mounted your Drive, this ensures that\n",
        "# the Python interpreter of the Colab VM can load\n",
        "# python files from within it.\n",
        "import sys\n",
        "sys.path.append('/content/drive/My Drive/{}'.format(FOLDERNAME))\n",
        "\n",
        "# This downloads the CIFAR-10 dataset to your Drive\n",
        "# if it doesn't already exist.\n",
        "%cd drive/My\\ Drive/$FOLDERNAME"
      ]
    },
    {
      "cell_type": "code",
      "execution_count": 2,
      "metadata": {
        "id": "bU9f33-JwAXv"
      },
      "outputs": [],
      "source": [
        "import pandas as pd\n",
        "import numpy as np\n",
        "import matplotlib.pyplot as plt\n",
        "import seaborn as sns\n",
        "from PIL import Image\n",
        "import warnings\n",
        "warnings.filterwarnings(action='ignore')"
      ]
    },
    {
      "cell_type": "code",
      "execution_count": 3,
      "metadata": {
        "colab": {
          "base_uri": "https://localhost:8080/"
        },
        "id": "HybzTJ5uwAbd",
        "outputId": "a26f73bf-43f2-4aab-85ba-374c33aeb6d3"
      },
      "outputs": [
        {
          "output_type": "stream",
          "name": "stdout",
          "text": [
            "(858, 2)\n",
            "(215, 1)\n"
          ]
        }
      ],
      "source": [
        "train=pd.read_csv(\"train.csv\")\n",
        "test=pd.read_csv(\"test.csv\")\n",
        "print(train.shape)\n",
        "print(test.shape)"
      ]
    },
    {
      "cell_type": "markdown",
      "metadata": {
        "id": "nQhihpvwA_L8"
      },
      "source": [
        "Data Visualization and Preprocessing"
      ]
    },
    {
      "cell_type": "code",
      "execution_count": 4,
      "metadata": {
        "colab": {
          "base_uri": "https://localhost:8080/",
          "height": 626
        },
        "id": "ZDV5NLq3wAhP",
        "outputId": "b7e32484-280b-427d-9589-87846532c76d"
      },
      "outputs": [
        {
          "output_type": "execute_result",
          "data": {
            "text/plain": [
              "<matplotlib.axes._subplots.AxesSubplot at 0x7f26d2811750>"
            ]
          },
          "metadata": {},
          "execution_count": 4
        },
        {
          "output_type": "display_data",
          "data": {
            "text/plain": [
              "<Figure size 720x720 with 1 Axes>"
            ],
            "image/png": "[encoded data removed]"
          },
          "metadata": {
            "needs_background": "light"
          }
        }
      ],
      "source": [
        "plt.figure(figsize=(10,10))\n",
        "sns.set_style('darkgrid')\n",
        "sns.countplot(train['label'])\n",
        "#충분히 balance해보임"
      ]
    },
    {
      "cell_type": "code",
      "execution_count": 5,
      "metadata": {
        "colab": {
          "base_uri": "https://localhost:8080/"
        },
        "id": "Z9h6WTX9NwJB",
        "outputId": "431bfec3-c8b6-49f1-8e88-97b618fa18d2"
      },
      "outputs": [
        {
          "output_type": "execute_result",
          "data": {
            "text/plain": [
              "file_name    0\n",
              "label        0\n",
              "dtype: int64"
            ]
          },
          "metadata": {},
          "execution_count": 5
        }
      ],
      "source": [
        "train.isna().sum()"
      ]
    },
    {
      "cell_type": "markdown",
      "metadata": {
        "id": "vRb6D3RjEfvE"
      },
      "source": [
        "이미지 불러오기"
      ]
    },
    {
      "cell_type": "code",
      "execution_count": 6,
      "metadata": {
        "colab": {
          "base_uri": "https://localhost:8080/"
        },
        "id": "MuImPdim54Nl",
        "outputId": "9cccb8ff-e5cd-43b6-ea65-317f32df4f5c"
      },
      "outputs": [
        {
          "output_type": "stream",
          "name": "stdout",
          "text": [
            "Looking in indexes: https://pypi.org/simple, https://us-python.pkg.dev/colab-wheels/public/simple/\n",
            "Requirement already satisfied: opencv-python in /usr/local/lib/python3.7/dist-packages (4.1.2.30)\n",
            "Requirement already satisfied: numpy>=1.14.5 in /usr/local/lib/python3.7/dist-packages (from opencv-python) (1.21.6)\n"
          ]
        }
      ],
      "source": [
        "!pip install opencv-python"
      ]
    },
    {
      "cell_type": "code",
      "execution_count": 7,
      "metadata": {
        "colab": {
          "base_uri": "https://localhost:8080/"
        },
        "id": "4S6RgAIn6Ml9",
        "outputId": "4cf14836-38f4-46d4-d8d8-91ee265ea7bc"
      },
      "outputs": [
        {
          "output_type": "stream",
          "name": "stdout",
          "text": [
            "Looking in indexes: https://pypi.org/simple, https://us-python.pkg.dev/colab-wheels/public/simple/\n",
            "Requirement already satisfied: tqdm in /usr/local/lib/python3.7/dist-packages (4.64.0)\n"
          ]
        }
      ],
      "source": [
        "!pip install tqdm"
      ]
    },
    {
      "cell_type": "code",
      "execution_count": null,
      "metadata": {
        "colab": {
          "base_uri": "https://localhost:8080/"
        },
        "id": "2HYsezYJwAsk",
        "outputId": "440dfd8f-8ffc-4f0c-bf0c-7fdd1de839bd"
      },
      "outputs": [
        {
          "output_type": "stream",
          "name": "stderr",
          "text": [
            " 50%|█████     | 432/858 [01:51<01:32,  4.62it/s]"
          ]
        }
      ],
      "source": [
        "import cv2\n",
        "from tqdm import tqdm\n",
        "img_arrays=[]\n",
        "for file in tqdm(train['file_name']):\n",
        "    img=cv2.imread('train/'+file)\n",
        "    img = cv2.resize(img, (64, 64))\n",
        "    img=cv2.cvtColor(img, cv2.COLOR_BGR2RGB)\n",
        "    img_arrays.append(np.array(img))\n",
        "train_img=np.array(img_arrays)"
      ]
    },
    {
      "cell_type": "code",
      "execution_count": null,
      "metadata": {
        "id": "Y4P9NOB6E_-g"
      },
      "outputs": [],
      "source": [
        "img_arrays2=[]\n",
        "for file in tqdm(test['file_name']):\n",
        "    img=cv2.imread('test/'+file)\n",
        "    img = cv2.resize(img, (64, 64))\n",
        "    img=cv2.cvtColor(img, cv2.COLOR_BGR2RGB)\n",
        "    img_arrays2.append(np.array(img))\n",
        "test_img=np.array(img_arrays2)"
      ]
    },
    {
      "cell_type": "code",
      "execution_count": null,
      "metadata": {
        "id": "A8sWz7Q9EYWt"
      },
      "outputs": [],
      "source": [
        "train_img.shape"
      ]
    },
    {
      "cell_type": "code",
      "execution_count": null,
      "metadata": {
        "id": "TWMYBGLxFAmT"
      },
      "outputs": [],
      "source": [
        "def convert_obj2int(obj):\n",
        "  if obj=='10-1':\n",
        "      obj='10'\n",
        "  elif obj=='10-2':\n",
        "      obj='0'\n",
        "  else:\n",
        "      obj\n",
        "  return int(obj)\n",
        "#모델링을 하기 위해 label을 정수형으로 수정해 주겠습니다.\n",
        "#파이토치는 클래스의 인덱스 번호가 0부터 읽어들이기 때문에,\n",
        "#10-1를 정수 10으로, 10를 정수 0으로 바꿔주고\n",
        "#label 열의 타입을 int로 수정해 주겠습니다."
      ]
    },
    {
      "cell_type": "code",
      "execution_count": null,
      "metadata": {
        "id": "RWEEjtigJa2w"
      },
      "outputs": [],
      "source": [
        "train['label']=train['label'].apply(convert_obj2int)\n",
        "train.head(3)"
      ]
    },
    {
      "cell_type": "code",
      "execution_count": null,
      "metadata": {
        "id": "-X1Rpw_UJ3wS"
      },
      "outputs": [],
      "source": [
        "#잘 불러와졌는지 보자\n",
        "plt.figure(figsize=(12,10))\n",
        "\n",
        "for n in range(0,11):  \n",
        "    train_idx = train[train[\"label\"] == n].tail(10).index\n",
        "    for i, m in enumerate(train_idx):\n",
        "        img = train_img[m]\n",
        "        plt.subplot(11, 10, (n*10)+(i+1))  #행은 class수 열은 시각화할 개수\n",
        "        plt.imshow(img, cmap=plt.cm.binary)\n",
        "        plt.axis(\"off\")"
      ]
    },
    {
      "cell_type": "code",
      "execution_count": 14,
      "metadata": {
        "id": "v8KodRSeVf4X"
      },
      "outputs": [],
      "source": [
        "# for n in range(0,11):  \n",
        "#     train_idx = train[train[\"label\"] == n].index\n",
        "#     print(f\"label : {n}\")\n",
        "#     plt.figure(figsize=(12,30))\n",
        "    \n",
        "#     for i, m in enumerate(train_idx):\n",
        "#         img = train_img[m]\n",
        "#         plt.subplot(56, 21, (i+1)) \n",
        "#         plt.imshow(img)\n",
        "#         plt.axis(\"off\")\n",
        "#     plt.show()    "
      ]
    },
    {
      "cell_type": "code",
      "execution_count": null,
      "metadata": {
        "id": "TrrsIxwQfvfX"
      },
      "outputs": [],
      "source": [
        "#train_img=train_img.reshape(-1,train_img.shape[1],train_img.shape[2],1)\n",
        "train_img=train_img/255"
      ]
    },
    {
      "cell_type": "code",
      "execution_count": null,
      "metadata": {
        "id": "tMxM8rByfxPQ"
      },
      "outputs": [],
      "source": [
        "#test_img=test_img.reshape(-1,test_img.shape[1],test_img.shape[2],1)\n",
        "test_img=test_img/255"
      ]
    },
    {
      "cell_type": "code",
      "execution_count": null,
      "metadata": {
        "id": "TDOiTxS6vzm1"
      },
      "outputs": [],
      "source": [
        "train_img.shape"
      ]
    },
    {
      "cell_type": "code",
      "execution_count": null,
      "metadata": {
        "id": "VDmLeFmCv7Ea"
      },
      "outputs": [],
      "source": [
        "test_img.shape"
      ]
    },
    {
      "cell_type": "code",
      "execution_count": 19,
      "metadata": {
        "id": "baez_7VXhJDt"
      },
      "outputs": [],
      "source": [
        "# fig,axe=plt.subplots(2,2)\n",
        "# fig.suptitle('Preview of dataset')\n",
        "# axe[0,0].imshow(test_img[0].reshape(28,28),cmap='gray')\n",
        "# axe[0,0].set_title('label: 3  letter: C')\n",
        "# axe[0,1].imshow(test_img[1].reshape(28,28),cmap='gray')\n",
        "# axe[0,1].set_title('label: 6  letter: F')\n",
        "# axe[1,0].imshow(test_img[2].reshape(28,28),cmap='gray')\n",
        "# axe[1,0].set_title('label: 2  letter: B')\n",
        "# axe[1,1].imshow(test_img[4].reshape(28,28),cmap='gray')\n",
        "# axe[1,1].set_title('label: 13  letter: M')"
      ]
    },
    {
      "cell_type": "code",
      "execution_count": 20,
      "metadata": {
        "id": "5doOC6-YN2kd"
      },
      "outputs": [],
      "source": [
        "# from sklearn.model_selection import train_test_split\n",
        "# X_train, X_test, y_train, y_test = train_test_split(train_img,pd.get_dummies(train['label']),test_size=0.1,random_state=4)"
      ]
    },
    {
      "cell_type": "code",
      "execution_count": 21,
      "metadata": {
        "id": "lIS6uZ2wWijn"
      },
      "outputs": [],
      "source": [
        "from keras.utils.np_utils import to_categorical\n",
        "y=train['label']\n",
        "y=to_categorical(y)"
      ]
    },
    {
      "cell_type": "markdown",
      "metadata": {
        "id": "IMhXt2hNSiuA"
      },
      "source": [
        "###성능 개선을 위한 label smoothing"
      ]
    },
    {
      "cell_type": "code",
      "execution_count": 22,
      "metadata": {
        "id": "05g5PWw_AxuO"
      },
      "outputs": [],
      "source": [
        "def smooth_labels(labels, factor=0.1):\n",
        "\t# smooth the labels\n",
        "\tlabels *= (1 - factor)\n",
        "\tlabels += (factor / labels.shape[1])\n",
        "\t# returned the smoothed labels\n",
        "\treturn labels"
      ]
    },
    {
      "cell_type": "code",
      "execution_count": 23,
      "metadata": {
        "colab": {
          "base_uri": "https://localhost:8080/"
        },
        "id": "Q27NPlJTBKsk",
        "outputId": "17073f3e-2fdc-4eda-c69d-2428de3649c7"
      },
      "outputs": [
        {
          "output_type": "execute_result",
          "data": {
            "text/plain": [
              "array([[0.9090909 , 0.00909091, 0.00909091, ..., 0.00909091, 0.00909091,\n",
              "        0.00909091],\n",
              "       [0.00909091, 0.00909091, 0.00909091, ..., 0.00909091, 0.00909091,\n",
              "        0.9090909 ],\n",
              "       [0.00909091, 0.00909091, 0.00909091, ..., 0.00909091, 0.00909091,\n",
              "        0.00909091],\n",
              "       ...,\n",
              "       [0.00909091, 0.00909091, 0.00909091, ..., 0.00909091, 0.00909091,\n",
              "        0.00909091],\n",
              "       [0.00909091, 0.00909091, 0.00909091, ..., 0.00909091, 0.00909091,\n",
              "        0.9090909 ],\n",
              "       [0.00909091, 0.00909091, 0.00909091, ..., 0.00909091, 0.00909091,\n",
              "        0.00909091]], dtype=float32)"
            ]
          },
          "metadata": {},
          "execution_count": 23
        }
      ],
      "source": [
        "smooth_labels(y)"
      ]
    },
    {
      "cell_type": "code",
      "execution_count": 24,
      "metadata": {
        "id": "WO2Q4hiqSHWZ",
        "colab": {
          "base_uri": "https://localhost:8080/"
        },
        "outputId": "45e47429-bc92-4ecc-a681-63d165fc16f5"
      },
      "outputs": [
        {
          "output_type": "execute_result",
          "data": {
            "text/plain": [
              "(687, 64, 64, 3)"
            ]
          },
          "metadata": {},
          "execution_count": 24
        }
      ],
      "source": [
        "\n",
        "from sklearn.model_selection import KFold\n",
        "kf = KFold(5)\n",
        "for train_index, test_index in kf.split(train_img):\n",
        "    X_train,X_test=train_img[train_index],train_img[test_index]\n",
        "    y_train,y_test=y[train_index],y[test_index]\n",
        "X_train.shape"
      ]
    },
    {
      "cell_type": "code",
      "execution_count": 25,
      "metadata": {
        "id": "l4eqQnwKKSre"
      },
      "outputs": [],
      "source": [
        "#전처리 파이프라인\n",
        "def pipeline(df1,df2):\n",
        "  def convert_obj2int(obj):\n",
        "    if obj=='10-1':\n",
        "        obj='10'\n",
        "    elif obj=='10-2':\n",
        "        obj='0'\n",
        "    else:\n",
        "        obj\n",
        "    return int(obj)\n",
        "  df1['label']=df1['label'].apply(convert_obj2int)\n",
        "  img_arrays=[]\n",
        "  for file in train['file_name']:\n",
        "    img=Image.open('computer vision/train/'+file)\n",
        "    img_arrays.append(np.array(img))\n",
        "  train_img=np.array(img_arrays)\n",
        "  img_arrays2=[]\n",
        "  for file in test['file_name']:\n",
        "    img=Image.open('computer vision/test/'+file)\n",
        "    img_arrays2.append(np.array(img))\n",
        "  test_img=np.array(img_arrays)\n",
        "  X_train=train_img.reshape(-1,train_img.shape[1],train_img.shape[2],3)\n",
        "  X_train=X_train/255\n",
        "  y_train=df1['label']\n",
        "  X_test=test_img.reshape(-1,test_img.shape[1],test_img.shape[2],3)\n",
        "  X_test=X_test/255\n",
        "  return X_train,y_train,X_test"
      ]
    },
    {
      "cell_type": "markdown",
      "metadata": {
        "id": "FG1D2c75a8h7"
      },
      "source": [
        "##Data augumentation"
      ]
    },
    {
      "cell_type": "code",
      "execution_count": 26,
      "metadata": {
        "id": "-4qALGYSbDGp"
      },
      "outputs": [],
      "source": [
        "from keras.preprocessing.image import ImageDataGenerator\n",
        "datagen = ImageDataGenerator(\n",
        "        featurewise_center=False,  # set input mean to 0 over the dataset\n",
        "        samplewise_center=False,  # set each sample mean to 0\n",
        "        featurewise_std_normalization=False,  # divide inputs by std of the dataset\n",
        "        samplewise_std_normalization=False,  # divide each input by its std\n",
        "        zca_whitening=False,  # apply ZCA whitening\n",
        "        rotation_range=10,  # randomly rotate images in the range (degrees, 0 to 180)\n",
        "        zoom_range = 0.1, # Randomly zoom image \n",
        "        width_shift_range=0.1,  # randomly shift images horizontally (fraction of total width)\n",
        "        height_shift_range=0.1,  # randomly shift images vertically (fraction of total height)\n",
        "        horizontal_flip=False,  # randomly flip images\n",
        "        vertical_flip=False)  # randomly flip images\n",
        "\n",
        "datagen.fit(train_img)"
      ]
    },
    {
      "cell_type": "markdown",
      "metadata": {
        "id": "ZIHtVNNbow08"
      },
      "source": [
        "데이터 확대를 위해 다음을 선택했습니다.\n",
        "\n",
        "일부 교육 이미지를 10도 랜덤으로 회전합니다. 10도 랜덤으로 확대/축소합니다. 일부 교육 이미지는 너비의 10%만큼 수평으로 임의로 이동합니다. 이미지의 높이를 10%만큼 수직으로 임의로 이동합니다. 분류가 잘못될 수 있으므로 vertical_flip 또는 horizontal_flip을 적용하지 않았습니다.\n",
        "\n",
        "모델이 준비되면, 우리는 훈련 데이터 세트를 맞춘다."
      ]
    },
    {
      "cell_type": "markdown",
      "metadata": {
        "id": "pl2t8crEVobI"
      },
      "source": [
        "##Modeling : Convolutional Neural Network"
      ]
    },
    {
      "cell_type": "code",
      "execution_count": 27,
      "metadata": {
        "id": "6LaG7lyiUqaI"
      },
      "outputs": [],
      "source": [
        "import tensorflow as tf\n",
        "from tensorflow.keras import Sequential,layers,Input\n",
        "from tensorflow.keras.layers import Dense, Conv2D , MaxPool2D , Flatten , Dropout , BatchNormalization, Resizing\n",
        "from tensorflow.keras.optimizers import Adam\n",
        "from tensorflow.keras import regularizers\n",
        "from sklearn.metrics import accuracy_score"
      ]
    },
    {
      "cell_type": "code",
      "execution_count": 28,
      "metadata": {
        "id": "DWeZMsLNbxdq"
      },
      "outputs": [],
      "source": [
        "from keras.callbacks import ReduceLROnPlateau  #https://deep-deep-deep.tistory.com/56\n",
        "learning_rate_reduction = ReduceLROnPlateau(monitor='val_accuracy', patience = 2, verbose=2,factor=0.5, min_lr=0.00001) # lr을 계속 절반으로 감소시킬것임"
      ]
    },
    {
      "cell_type": "code",
      "execution_count": 29,
      "metadata": {
        "id": "lO4Ju_l_RMxC"
      },
      "outputs": [],
      "source": [
        "#model.save('saved_model')"
      ]
    },
    {
      "cell_type": "code",
      "execution_count": 30,
      "metadata": {
        "id": "O4aTs5GLSlWD"
      },
      "outputs": [],
      "source": [
        "#model.save('saved_model.h5')"
      ]
    },
    {
      "cell_type": "code",
      "execution_count": 31,
      "metadata": {
        "id": "IrEXEFfynQHW",
        "colab": {
          "base_uri": "https://localhost:8080/"
        },
        "outputId": "8444f8e2-9754-40a5-82fc-6196a6b82f7f"
      },
      "outputs": [
        {
          "output_type": "stream",
          "name": "stdout",
          "text": [
            "Model: \"sequential\"\n",
            "_________________________________________________________________\n",
            " Layer (type)                Output Shape              Param #   \n",
            "=================================================================\n",
            " resizing (Resizing)         (None, 28, 28, 3)         0         \n",
            "                                                                 \n",
            " conv2d (Conv2D)             (None, 28, 28, 216)       6048      \n",
            "                                                                 \n",
            " batch_normalization (BatchN  (None, 28, 28, 216)      864       \n",
            " ormalization)                                                   \n",
            "                                                                 \n",
            " max_pooling2d (MaxPooling2D  (None, 14, 14, 216)      0         \n",
            " )                                                               \n",
            "                                                                 \n",
            " conv2d_1 (Conv2D)           (None, 14, 14, 128)       248960    \n",
            "                                                                 \n",
            " dropout (Dropout)           (None, 14, 14, 128)       0         \n",
            "                                                                 \n",
            " batch_normalization_1 (Batc  (None, 14, 14, 128)      512       \n",
            " hNormalization)                                                 \n",
            "                                                                 \n",
            " max_pooling2d_1 (MaxPooling  (None, 7, 7, 128)        0         \n",
            " 2D)                                                             \n",
            "                                                                 \n",
            " conv2d_2 (Conv2D)           (None, 7, 7, 64)          73792     \n",
            "                                                                 \n",
            " batch_normalization_2 (Batc  (None, 7, 7, 64)         256       \n",
            " hNormalization)                                                 \n",
            "                                                                 \n",
            " max_pooling2d_2 (MaxPooling  (None, 4, 4, 64)         0         \n",
            " 2D)                                                             \n",
            "                                                                 \n",
            " conv2d_3 (Conv2D)           (None, 4, 4, 32)          18464     \n",
            "                                                                 \n",
            " batch_normalization_3 (Batc  (None, 4, 4, 32)         128       \n",
            " hNormalization)                                                 \n",
            "                                                                 \n",
            " max_pooling2d_3 (MaxPooling  (None, 2, 2, 32)         0         \n",
            " 2D)                                                             \n",
            "                                                                 \n",
            " flatten (Flatten)           (None, 128)               0         \n",
            "                                                                 \n",
            " dense (Dense)               (None, 512)               66048     \n",
            "                                                                 \n",
            " dropout_1 (Dropout)         (None, 512)               0         \n",
            "                                                                 \n",
            " dense_1 (Dense)             (None, 11)                5643      \n",
            "                                                                 \n",
            "=================================================================\n",
            "Total params: 420,715\n",
            "Trainable params: 419,835\n",
            "Non-trainable params: 880\n",
            "_________________________________________________________________\n"
          ]
        }
      ],
      "source": [
        "loaded_model = tf.keras.models.load_model(\"saved_model\")\n",
        "\n",
        "loaded_model.summary()"
      ]
    },
    {
      "cell_type": "markdown",
      "source": [
        "##앙상블하려고 했는데 model1에서 100나와서 안함"
      ],
      "metadata": {
        "id": "KFRIb4Ob6JL5"
      }
    },
    {
      "cell_type": "code",
      "source": [
        "model1 = Sequential()\n",
        "\n",
        "model1.add(layers.Conv2D(32, (3, 3), input_shape = X_train.shape[1:], activation='relu'))\n",
        "model1.add(layers.MaxPooling2D(pool_size = (2, 2)))\n",
        "model1.add(layers.Dropout(0.2))\n",
        "\n",
        "model1.add(layers.Conv2D(64, (3, 3), activation='relu'))\n",
        "model1.add(layers.MaxPooling2D(pool_size = (2, 2)))\n",
        "model1.add(layers.Dropout(0.2))\n",
        "\n",
        "model1.add(layers.Conv2D(128, (3, 3), activation='relu'))\n",
        "model1.add(layers.MaxPooling2D(pool_size = (2, 2)))\n",
        "model1.add(layers.Dropout(0.2))\n",
        "\n",
        "model1.add(layers.Flatten())\n",
        "\n",
        "model1.add(layers.Dense(128, activation = 'relu'))\n",
        "model1.add(layers.Dense(11, activation = 'softmax'))\n",
        "model1.summary()"
      ],
      "metadata": {
        "colab": {
          "base_uri": "https://localhost:8080/"
        },
        "id": "4v4Zqp166VsM",
        "outputId": "91b99850-2591-4a50-b7f6-dee13f618044"
      },
      "execution_count": 32,
      "outputs": [
        {
          "output_type": "stream",
          "name": "stdout",
          "text": [
            "Model: \"sequential\"\n",
            "_________________________________________________________________\n",
            " Layer (type)                Output Shape              Param #   \n",
            "=================================================================\n",
            " conv2d (Conv2D)             (None, 62, 62, 32)        896       \n",
            "                                                                 \n",
            " max_pooling2d (MaxPooling2D  (None, 31, 31, 32)       0         \n",
            " )                                                               \n",
            "                                                                 \n",
            " dropout (Dropout)           (None, 31, 31, 32)        0         \n",
            "                                                                 \n",
            " conv2d_1 (Conv2D)           (None, 29, 29, 64)        18496     \n",
            "                                                                 \n",
            " max_pooling2d_1 (MaxPooling  (None, 14, 14, 64)       0         \n",
            " 2D)                                                             \n",
            "                                                                 \n",
            " dropout_1 (Dropout)         (None, 14, 14, 64)        0         \n",
            "                                                                 \n",
            " conv2d_2 (Conv2D)           (None, 12, 12, 128)       73856     \n",
            "                                                                 \n",
            " max_pooling2d_2 (MaxPooling  (None, 6, 6, 128)        0         \n",
            " 2D)                                                             \n",
            "                                                                 \n",
            " dropout_2 (Dropout)         (None, 6, 6, 128)         0         \n",
            "                                                                 \n",
            " flatten (Flatten)           (None, 4608)              0         \n",
            "                                                                 \n",
            " dense (Dense)               (None, 128)               589952    \n",
            "                                                                 \n",
            " dense_1 (Dense)             (None, 11)                1419      \n",
            "                                                                 \n",
            "=================================================================\n",
            "Total params: 684,619\n",
            "Trainable params: 684,619\n",
            "Non-trainable params: 0\n",
            "_________________________________________________________________\n"
          ]
        }
      ]
    },
    {
      "cell_type": "code",
      "source": [
        "model1.compile(loss ='categorical_crossentropy', optimizer='adam',metrics =['accuracy'])\n",
        "mod_res_1 = model1.fit(X_train,y_train, batch_size = 128, epochs = 50, verbose = 2, validation_data = (X_test, y_test))"
      ],
      "metadata": {
        "colab": {
          "base_uri": "https://localhost:8080/"
        },
        "id": "-gfoVBEP6m4v",
        "outputId": "1cfe5e5e-86cd-42f8-f690-04cda8b630d4"
      },
      "execution_count": 33,
      "outputs": [
        {
          "output_type": "stream",
          "name": "stdout",
          "text": [
            "Epoch 1/50\n",
            "6/6 - 6s - loss: 2.4307 - accuracy: 0.0873 - val_loss: 2.3998 - val_accuracy: 0.0702 - 6s/epoch - 1s/step\n",
            "Epoch 2/50\n",
            "6/6 - 5s - loss: 2.3945 - accuracy: 0.1121 - val_loss: 2.3997 - val_accuracy: 0.1111 - 5s/epoch - 821ms/step\n",
            "Epoch 3/50\n",
            "6/6 - 5s - loss: 2.3921 - accuracy: 0.1164 - val_loss: 2.3991 - val_accuracy: 0.0936 - 5s/epoch - 806ms/step\n",
            "Epoch 4/50\n",
            "6/6 - 5s - loss: 2.3907 - accuracy: 0.1019 - val_loss: 2.3955 - val_accuracy: 0.1053 - 5s/epoch - 811ms/step\n",
            "Epoch 5/50\n",
            "6/6 - 5s - loss: 2.3851 - accuracy: 0.1194 - val_loss: 2.3944 - val_accuracy: 0.1404 - 5s/epoch - 806ms/step\n",
            "Epoch 6/50\n",
            "6/6 - 7s - loss: 2.3784 - accuracy: 0.1019 - val_loss: 2.3824 - val_accuracy: 0.0819 - 7s/epoch - 1s/step\n",
            "Epoch 7/50\n",
            "6/6 - 5s - loss: 2.3657 - accuracy: 0.1543 - val_loss: 2.3734 - val_accuracy: 0.1520 - 5s/epoch - 816ms/step\n",
            "Epoch 8/50\n",
            "6/6 - 5s - loss: 2.3244 - accuracy: 0.2111 - val_loss: 2.3024 - val_accuracy: 0.1696 - 5s/epoch - 811ms/step\n",
            "Epoch 9/50\n",
            "6/6 - 5s - loss: 2.2480 - accuracy: 0.2300 - val_loss: 2.2141 - val_accuracy: 0.2456 - 5s/epoch - 815ms/step\n",
            "Epoch 10/50\n",
            "6/6 - 5s - loss: 2.1543 - accuracy: 0.2489 - val_loss: 2.1660 - val_accuracy: 0.2164 - 5s/epoch - 818ms/step\n",
            "Epoch 11/50\n",
            "6/6 - 5s - loss: 2.0740 - accuracy: 0.2911 - val_loss: 2.1241 - val_accuracy: 0.2281 - 5s/epoch - 813ms/step\n",
            "Epoch 12/50\n",
            "6/6 - 5s - loss: 2.0134 - accuracy: 0.3202 - val_loss: 2.0276 - val_accuracy: 0.2982 - 5s/epoch - 813ms/step\n",
            "Epoch 13/50\n",
            "6/6 - 5s - loss: 1.8661 - accuracy: 0.3959 - val_loss: 1.9708 - val_accuracy: 0.2982 - 5s/epoch - 815ms/step\n",
            "Epoch 14/50\n",
            "6/6 - 5s - loss: 1.7887 - accuracy: 0.4469 - val_loss: 1.9165 - val_accuracy: 0.4269 - 5s/epoch - 817ms/step\n",
            "Epoch 15/50\n",
            "6/6 - 5s - loss: 1.7294 - accuracy: 0.4672 - val_loss: 1.9711 - val_accuracy: 0.3801 - 5s/epoch - 817ms/step\n",
            "Epoch 16/50\n",
            "6/6 - 5s - loss: 1.7167 - accuracy: 0.4876 - val_loss: 1.8466 - val_accuracy: 0.4035 - 5s/epoch - 817ms/step\n",
            "Epoch 17/50\n",
            "6/6 - 5s - loss: 1.5963 - accuracy: 0.5357 - val_loss: 1.8299 - val_accuracy: 0.4211 - 5s/epoch - 815ms/step\n",
            "Epoch 18/50\n",
            "6/6 - 5s - loss: 1.5217 - accuracy: 0.5968 - val_loss: 1.7874 - val_accuracy: 0.4620 - 5s/epoch - 817ms/step\n",
            "Epoch 19/50\n",
            "6/6 - 5s - loss: 1.4644 - accuracy: 0.6230 - val_loss: 1.8175 - val_accuracy: 0.4152 - 5s/epoch - 816ms/step\n",
            "Epoch 20/50\n",
            "6/6 - 5s - loss: 1.4354 - accuracy: 0.6099 - val_loss: 1.6883 - val_accuracy: 0.4854 - 5s/epoch - 812ms/step\n",
            "Epoch 21/50\n",
            "6/6 - 5s - loss: 1.3260 - accuracy: 0.6972 - val_loss: 1.7074 - val_accuracy: 0.4678 - 5s/epoch - 818ms/step\n",
            "Epoch 22/50\n",
            "6/6 - 5s - loss: 1.2819 - accuracy: 0.7001 - val_loss: 1.6587 - val_accuracy: 0.5088 - 5s/epoch - 820ms/step\n",
            "Epoch 23/50\n",
            "6/6 - 5s - loss: 1.2557 - accuracy: 0.7278 - val_loss: 1.6064 - val_accuracy: 0.5263 - 5s/epoch - 824ms/step\n",
            "Epoch 24/50\n",
            "6/6 - 5s - loss: 1.1859 - accuracy: 0.7569 - val_loss: 1.6367 - val_accuracy: 0.5029 - 5s/epoch - 815ms/step\n",
            "Epoch 25/50\n",
            "6/6 - 5s - loss: 1.1543 - accuracy: 0.7642 - val_loss: 1.5686 - val_accuracy: 0.5673 - 5s/epoch - 817ms/step\n",
            "Epoch 26/50\n",
            "6/6 - 5s - loss: 1.0924 - accuracy: 0.8006 - val_loss: 1.5677 - val_accuracy: 0.6023 - 5s/epoch - 819ms/step\n",
            "Epoch 27/50\n",
            "6/6 - 5s - loss: 1.0771 - accuracy: 0.7977 - val_loss: 1.5398 - val_accuracy: 0.5906 - 5s/epoch - 825ms/step\n",
            "Epoch 28/50\n",
            "6/6 - 5s - loss: 1.0687 - accuracy: 0.7977 - val_loss: 1.5695 - val_accuracy: 0.5614 - 5s/epoch - 824ms/step\n",
            "Epoch 29/50\n",
            "6/6 - 5s - loss: 1.0147 - accuracy: 0.8224 - val_loss: 1.4877 - val_accuracy: 0.5848 - 5s/epoch - 818ms/step\n",
            "Epoch 30/50\n",
            "6/6 - 5s - loss: 0.9840 - accuracy: 0.8428 - val_loss: 1.5012 - val_accuracy: 0.6140 - 5s/epoch - 821ms/step\n",
            "Epoch 31/50\n",
            "6/6 - 5s - loss: 0.9786 - accuracy: 0.8428 - val_loss: 1.4272 - val_accuracy: 0.6316 - 5s/epoch - 827ms/step\n",
            "Epoch 32/50\n",
            "6/6 - 5s - loss: 0.9289 - accuracy: 0.8748 - val_loss: 1.5074 - val_accuracy: 0.6550 - 5s/epoch - 828ms/step\n",
            "Epoch 33/50\n",
            "6/6 - 5s - loss: 0.9086 - accuracy: 0.8763 - val_loss: 1.4538 - val_accuracy: 0.6491 - 5s/epoch - 820ms/step\n",
            "Epoch 34/50\n",
            "6/6 - 5s - loss: 0.8851 - accuracy: 0.9039 - val_loss: 1.4487 - val_accuracy: 0.6316 - 5s/epoch - 824ms/step\n",
            "Epoch 35/50\n",
            "6/6 - 5s - loss: 0.8639 - accuracy: 0.9054 - val_loss: 1.4706 - val_accuracy: 0.6374 - 5s/epoch - 828ms/step\n",
            "Epoch 36/50\n",
            "6/6 - 5s - loss: 0.8377 - accuracy: 0.9214 - val_loss: 1.4357 - val_accuracy: 0.6725 - 5s/epoch - 823ms/step\n",
            "Epoch 37/50\n",
            "6/6 - 5s - loss: 0.8206 - accuracy: 0.9229 - val_loss: 1.4765 - val_accuracy: 0.6374 - 5s/epoch - 829ms/step\n",
            "Epoch 38/50\n",
            "6/6 - 5s - loss: 0.8143 - accuracy: 0.9258 - val_loss: 1.4269 - val_accuracy: 0.6725 - 5s/epoch - 819ms/step\n",
            "Epoch 39/50\n",
            "6/6 - 5s - loss: 0.7976 - accuracy: 0.9491 - val_loss: 1.4273 - val_accuracy: 0.6784 - 5s/epoch - 833ms/step\n",
            "Epoch 40/50\n",
            "6/6 - 5s - loss: 0.7973 - accuracy: 0.9374 - val_loss: 1.4408 - val_accuracy: 0.6784 - 5s/epoch - 827ms/step\n",
            "Epoch 41/50\n",
            "6/6 - 5s - loss: 0.7674 - accuracy: 0.9534 - val_loss: 1.4189 - val_accuracy: 0.6608 - 5s/epoch - 822ms/step\n",
            "Epoch 42/50\n",
            "6/6 - 5s - loss: 0.7646 - accuracy: 0.9505 - val_loss: 1.4183 - val_accuracy: 0.6725 - 5s/epoch - 823ms/step\n",
            "Epoch 43/50\n",
            "6/6 - 5s - loss: 0.7387 - accuracy: 0.9651 - val_loss: 1.3992 - val_accuracy: 0.6608 - 5s/epoch - 825ms/step\n",
            "Epoch 44/50\n",
            "6/6 - 5s - loss: 0.7423 - accuracy: 0.9563 - val_loss: 1.4211 - val_accuracy: 0.6550 - 5s/epoch - 820ms/step\n",
            "Epoch 45/50\n",
            "6/6 - 5s - loss: 0.7312 - accuracy: 0.9636 - val_loss: 1.4013 - val_accuracy: 0.6842 - 5s/epoch - 819ms/step\n",
            "Epoch 46/50\n",
            "6/6 - 5s - loss: 0.7231 - accuracy: 0.9782 - val_loss: 1.4033 - val_accuracy: 0.6608 - 5s/epoch - 825ms/step\n",
            "Epoch 47/50\n",
            "6/6 - 5s - loss: 0.7209 - accuracy: 0.9753 - val_loss: 1.4338 - val_accuracy: 0.6784 - 5s/epoch - 822ms/step\n",
            "Epoch 48/50\n",
            "6/6 - 5s - loss: 0.7079 - accuracy: 0.9825 - val_loss: 1.4020 - val_accuracy: 0.6725 - 5s/epoch - 825ms/step\n",
            "Epoch 49/50\n",
            "6/6 - 5s - loss: 0.7045 - accuracy: 0.9753 - val_loss: 1.3832 - val_accuracy: 0.6842 - 5s/epoch - 823ms/step\n",
            "Epoch 50/50\n",
            "6/6 - 5s - loss: 0.6968 - accuracy: 0.9723 - val_loss: 1.4436 - val_accuracy: 0.6725 - 5s/epoch - 824ms/step\n"
          ]
        }
      ]
    },
    {
      "cell_type": "code",
      "execution_count": 34,
      "metadata": {
        "id": "ab7hOYJoAc8m",
        "colab": {
          "base_uri": "https://localhost:8080/",
          "height": 567
        },
        "outputId": "93c6bf0c-f0c9-4c50-dcda-465cc6997e1b"
      },
      "outputs": [
        {
          "output_type": "display_data",
          "data": {
            "text/plain": [
              "<Figure size 1152x648 with 2 Axes>"
            ],
            "image/png": "[encoded data removed]"
          },
          "metadata": {}
        }
      ],
      "source": [
        "epochs = [i for i in range(50)]\n",
        "fig , ax = plt.subplots(1,2)\n",
        "train_acc = mod_res_1.history['accuracy']\n",
        "train_loss = mod_res_1.history['loss']\n",
        "val_acc = mod_res_1.history['val_accuracy']\n",
        "val_loss = mod_res_1.history['val_loss']\n",
        "fig.set_size_inches(16,9)\n",
        "\n",
        "ax[0].plot(epochs , train_acc , 'go-' , label = 'Training Accuracy')\n",
        "ax[0].plot(epochs , val_acc , 'ro-' , label = 'Testing Accuracy')\n",
        "ax[0].set_title('Training & Validation Accuracy')\n",
        "ax[0].legend()\n",
        "ax[0].set_xlabel(\"Epochs\")\n",
        "ax[0].set_ylabel(\"Accuracy\")\n",
        "\n",
        "ax[1].plot(epochs , train_loss , 'g-o' , label = 'Training Loss')\n",
        "ax[1].plot(epochs , val_loss , 'r-o' , label = 'Testing Loss')\n",
        "ax[1].set_title('Testing Accuracy & Loss')\n",
        "ax[1].legend()\n",
        "ax[1].set_xlabel(\"Epochs\")\n",
        "ax[1].set_ylabel(\"Loss\")\n",
        "plt.show()"
      ]
    },
    {
      "cell_type": "markdown",
      "metadata": {
        "id": "6HKRx-yQPGZB"
      },
      "source": [
        "![image.png](data:image/png;base64,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)"
      ]
    },
    {
      "cell_type": "code",
      "execution_count": 35,
      "metadata": {
        "id": "orRVUXiKeyld",
        "colab": {
          "base_uri": "https://localhost:8080/"
        },
        "outputId": "f0699490-55d0-4ed6-9f96-6d4f5d33d293"
      },
      "outputs": [
        {
          "output_type": "stream",
          "name": "stdout",
          "text": [
            "9/9 [==============================] - 1s 55ms/step - loss: 1.1796 - accuracy: 0.7829\n",
            "Accuracy of the model is -  78.29457521438599 %\n"
          ]
        }
      ],
      "source": [
        "print(\"Accuracy of the model is - \" , model1.evaluate(train_img[600:],y[600:])[1]*100 , \"%\")"
      ]
    },
    {
      "cell_type": "markdown",
      "source": [
        "#정확도 100% !!!"
      ],
      "metadata": {
        "id": "zXxzh4_avT8L"
      }
    },
    {
      "cell_type": "markdown",
      "metadata": {
        "id": "cTNsG7tEdUWB"
      },
      "source": [
        "##전이학습"
      ]
    },
    {
      "cell_type": "markdown",
      "source": [
        "###ResNet50"
      ],
      "metadata": {
        "id": "3nwqKYtWxkFz"
      }
    },
    {
      "cell_type": "code",
      "execution_count": 36,
      "metadata": {
        "colab": {
          "base_uri": "https://localhost:8080/",
          "height": 1000
        },
        "id": "_Bv6ooZT7k5X",
        "outputId": "13e60062-97f0-44d6-89b6-69217c07ca4e"
      },
      "outputs": [
        {
          "output_type": "stream",
          "name": "stdout",
          "text": [
            "Model: \"model\"\n",
            "__________________________________________________________________________________________________\n",
            " Layer (type)                   Output Shape         Param #     Connected to                     \n",
            "==================================================================================================\n",
            " input_1 (InputLayer)           [(None, 64, 64, 3)]  0           []                               \n",
            "                                                                                                  \n",
            " conv1_pad (ZeroPadding2D)      (None, 70, 70, 3)    0           ['input_1[0][0]']                \n",
            "                                                                                                  \n",
            " conv1_conv (Conv2D)            (None, 32, 32, 64)   9472        ['conv1_pad[0][0]']              \n",
            "                                                                                                  \n",
            " conv1_bn (BatchNormalization)  (None, 32, 32, 64)   256         ['conv1_conv[0][0]']             \n",
            "                                                                                                  \n",
            " conv1_relu (Activation)        (None, 32, 32, 64)   0           ['conv1_bn[0][0]']               \n",
            "                                                                                                  \n",
            " pool1_pad (ZeroPadding2D)      (None, 34, 34, 64)   0           ['conv1_relu[0][0]']             \n",
            "                                                                                                  \n",
            " pool1_pool (MaxPooling2D)      (None, 16, 16, 64)   0           ['pool1_pad[0][0]']              \n",
            "                                                                                                  \n",
            " conv2_block1_1_conv (Conv2D)   (None, 16, 16, 64)   4160        ['pool1_pool[0][0]']             \n",
            "                                                                                                  \n",
            " conv2_block1_1_bn (BatchNormal  (None, 16, 16, 64)  256         ['conv2_block1_1_conv[0][0]']    \n",
            " ization)                                                                                         \n",
            "                                                                                                  \n",
            " conv2_block1_1_relu (Activatio  (None, 16, 16, 64)  0           ['conv2_block1_1_bn[0][0]']      \n",
            " n)                                                                                               \n",
            "                                                                                                  \n",
            " conv2_block1_2_conv (Conv2D)   (None, 16, 16, 64)   36928       ['conv2_block1_1_relu[0][0]']    \n",
            "                                                                                                  \n",
            " conv2_block1_2_bn (BatchNormal  (None, 16, 16, 64)  256         ['conv2_block1_2_conv[0][0]']    \n",
            " ization)                                                                                         \n",
            "                                                                                                  \n",
            " conv2_block1_2_relu (Activatio  (None, 16, 16, 64)  0           ['conv2_block1_2_bn[0][0]']      \n",
            " n)                                                                                               \n",
            "                                                                                                  \n",
            " conv2_block1_0_conv (Conv2D)   (None, 16, 16, 256)  16640       ['pool1_pool[0][0]']             \n",
            "                                                                                                  \n",
            " conv2_block1_3_conv (Conv2D)   (None, 16, 16, 256)  16640       ['conv2_block1_2_relu[0][0]']    \n",
            "                                                                                                  \n",
            " conv2_block1_0_bn (BatchNormal  (None, 16, 16, 256)  1024       ['conv2_block1_0_conv[0][0]']    \n",
            " ization)                                                                                         \n",
            "                                                                                                  \n",
            " conv2_block1_3_bn (BatchNormal  (None, 16, 16, 256)  1024       ['conv2_block1_3_conv[0][0]']    \n",
            " ization)                                                                                         \n",
            "                                                                                                  \n",
            " conv2_block1_add (Add)         (None, 16, 16, 256)  0           ['conv2_block1_0_bn[0][0]',      \n",
            "                                                                  'conv2_block1_3_bn[0][0]']      \n",
            "                                                                                                  \n",
            " conv2_block1_out (Activation)  (None, 16, 16, 256)  0           ['conv2_block1_add[0][0]']       \n",
            "                                                                                                  \n",
            " conv2_block2_1_conv (Conv2D)   (None, 16, 16, 64)   16448       ['conv2_block1_out[0][0]']       \n",
            "                                                                                                  \n",
            " conv2_block2_1_bn (BatchNormal  (None, 16, 16, 64)  256         ['conv2_block2_1_conv[0][0]']    \n",
            " ization)                                                                                         \n",
            "                                                                                                  \n",
            " conv2_block2_1_relu (Activatio  (None, 16, 16, 64)  0           ['conv2_block2_1_bn[0][0]']      \n",
            " n)                                                                                               \n",
            "                                                                                                  \n",
            " conv2_block2_2_conv (Conv2D)   (None, 16, 16, 64)   36928       ['conv2_block2_1_relu[0][0]']    \n",
            "                                                                                                  \n",
            " conv2_block2_2_bn (BatchNormal  (None, 16, 16, 64)  256         ['conv2_block2_2_conv[0][0]']    \n",
            " ization)                                                                                         \n",
            "                                                                                                  \n",
            " conv2_block2_2_relu (Activatio  (None, 16, 16, 64)  0           ['conv2_block2_2_bn[0][0]']      \n",
            " n)                                                                                               \n",
            "                                                                                                  \n",
            " conv2_block2_3_conv (Conv2D)   (None, 16, 16, 256)  16640       ['conv2_block2_2_relu[0][0]']    \n",
            "                                                                                                  \n",
            " conv2_block2_3_bn (BatchNormal  (None, 16, 16, 256)  1024       ['conv2_block2_3_conv[0][0]']    \n",
            " ization)                                                                                         \n",
            "                                                                                                  \n",
            " conv2_block2_add (Add)         (None, 16, 16, 256)  0           ['conv2_block1_out[0][0]',       \n",
            "                                                                  'conv2_block2_3_bn[0][0]']      \n",
            "                                                                                                  \n",
            " conv2_block2_out (Activation)  (None, 16, 16, 256)  0           ['conv2_block2_add[0][0]']       \n",
            "                                                                                                  \n",
            " conv2_block3_1_conv (Conv2D)   (None, 16, 16, 64)   16448       ['conv2_block2_out[0][0]']       \n",
            "                                                                                                  \n",
            " conv2_block3_1_bn (BatchNormal  (None, 16, 16, 64)  256         ['conv2_block3_1_conv[0][0]']    \n",
            " ization)                                                                                         \n",
            "                                                                                                  \n",
            " conv2_block3_1_relu (Activatio  (None, 16, 16, 64)  0           ['conv2_block3_1_bn[0][0]']      \n",
            " n)                                                                                               \n",
            "                                                                                                  \n",
            " conv2_block3_2_conv (Conv2D)   (None, 16, 16, 64)   36928       ['conv2_block3_1_relu[0][0]']    \n",
            "                                                                                                  \n",
            " conv2_block3_2_bn (BatchNormal  (None, 16, 16, 64)  256         ['conv2_block3_2_conv[0][0]']    \n",
            " ization)                                                                                         \n",
            "                                                                                                  \n",
            " conv2_block3_2_relu (Activatio  (None, 16, 16, 64)  0           ['conv2_block3_2_bn[0][0]']      \n",
            " n)                                                                                               \n",
            "                                                                                                  \n",
            " conv2_block3_3_conv (Conv2D)   (None, 16, 16, 256)  16640       ['conv2_block3_2_relu[0][0]']    \n",
            "                                                                                                  \n",
            " conv2_block3_3_bn (BatchNormal  (None, 16, 16, 256)  1024       ['conv2_block3_3_conv[0][0]']    \n",
            " ization)                                                                                         \n",
            "                                                                                                  \n",
            " conv2_block3_add (Add)         (None, 16, 16, 256)  0           ['conv2_block2_out[0][0]',       \n",
            "                                                                  'conv2_block3_3_bn[0][0]']      \n",
            "                                                                                                  \n",
            " conv2_block3_out (Activation)  (None, 16, 16, 256)  0           ['conv2_block3_add[0][0]']       \n",
            "                                                                                                  \n",
            " conv3_block1_1_conv (Conv2D)   (None, 8, 8, 128)    32896       ['conv2_block3_out[0][0]']       \n",
            "                                                                                                  \n",
            " conv3_block1_1_bn (BatchNormal  (None, 8, 8, 128)   512         ['conv3_block1_1_conv[0][0]']    \n",
            " ization)                                                                                         \n",
            "                                                                                                  \n",
            " conv3_block1_1_relu (Activatio  (None, 8, 8, 128)   0           ['conv3_block1_1_bn[0][0]']      \n",
            " n)                                                                                               \n",
            "                                                                                                  \n",
            " conv3_block1_2_conv (Conv2D)   (None, 8, 8, 128)    147584      ['conv3_block1_1_relu[0][0]']    \n",
            "                                                                                                  \n",
            " conv3_block1_2_bn (BatchNormal  (None, 8, 8, 128)   512         ['conv3_block1_2_conv[0][0]']    \n",
            " ization)                                                                                         \n",
            "                                                                                                  \n",
            " conv3_block1_2_relu (Activatio  (None, 8, 8, 128)   0           ['conv3_block1_2_bn[0][0]']      \n",
            " n)                                                                                               \n",
            "                                                                                                  \n",
            " conv3_block1_0_conv (Conv2D)   (None, 8, 8, 512)    131584      ['conv2_block3_out[0][0]']       \n",
            "                                                                                                  \n",
            " conv3_block1_3_conv (Conv2D)   (None, 8, 8, 512)    66048       ['conv3_block1_2_relu[0][0]']    \n",
            "                                                                                                  \n",
            " conv3_block1_0_bn (BatchNormal  (None, 8, 8, 512)   2048        ['conv3_block1_0_conv[0][0]']    \n",
            " ization)                                                                                         \n",
            "                                                                                                  \n",
            " conv3_block1_3_bn (BatchNormal  (None, 8, 8, 512)   2048        ['conv3_block1_3_conv[0][0]']    \n",
            " ization)                                                                                         \n",
            "                                                                                                  \n",
            " conv3_block1_add (Add)         (None, 8, 8, 512)    0           ['conv3_block1_0_bn[0][0]',      \n",
            "                                                                  'conv3_block1_3_bn[0][0]']      \n",
            "                                                                                                  \n",
            " conv3_block1_out (Activation)  (None, 8, 8, 512)    0           ['conv3_block1_add[0][0]']       \n",
            "                                                                                                  \n",
            " conv3_block2_1_conv (Conv2D)   (None, 8, 8, 128)    65664       ['conv3_block1_out[0][0]']       \n",
            "                                                                                                  \n",
            " conv3_block2_1_bn (BatchNormal  (None, 8, 8, 128)   512         ['conv3_block2_1_conv[0][0]']    \n",
            " ization)                                                                                         \n",
            "                                                                                                  \n",
            " conv3_block2_1_relu (Activatio  (None, 8, 8, 128)   0           ['conv3_block2_1_bn[0][0]']      \n",
            " n)                                                                                               \n",
            "                                                                                                  \n",
            " conv3_block2_2_conv (Conv2D)   (None, 8, 8, 128)    147584      ['conv3_block2_1_relu[0][0]']    \n",
            "                                                                                                  \n",
            " conv3_block2_2_bn (BatchNormal  (None, 8, 8, 128)   512         ['conv3_block2_2_conv[0][0]']    \n",
            " ization)                                                                                         \n",
            "                                                                                                  \n",
            " conv3_block2_2_relu (Activatio  (None, 8, 8, 128)   0           ['conv3_block2_2_bn[0][0]']      \n",
            " n)                                                                                               \n",
            "                                                                                                  \n",
            " conv3_block2_3_conv (Conv2D)   (None, 8, 8, 512)    66048       ['conv3_block2_2_relu[0][0]']    \n",
            "                                                                                                  \n",
            " conv3_block2_3_bn (BatchNormal  (None, 8, 8, 512)   2048        ['conv3_block2_3_conv[0][0]']    \n",
            " ization)                                                                                         \n",
            "                                                                                                  \n",
            " conv3_block2_add (Add)         (None, 8, 8, 512)    0           ['conv3_block1_out[0][0]',       \n",
            "                                                                  'conv3_block2_3_bn[0][0]']      \n",
            "                                                                                                  \n",
            " conv3_block2_out (Activation)  (None, 8, 8, 512)    0           ['conv3_block2_add[0][0]']       \n",
            "                                                                                                  \n",
            " conv3_block3_1_conv (Conv2D)   (None, 8, 8, 128)    65664       ['conv3_block2_out[0][0]']       \n",
            "                                                                                                  \n",
            " conv3_block3_1_bn (BatchNormal  (None, 8, 8, 128)   512         ['conv3_block3_1_conv[0][0]']    \n",
            " ization)                                                                                         \n",
            "                                                                                                  \n",
            " conv3_block3_1_relu (Activatio  (None, 8, 8, 128)   0           ['conv3_block3_1_bn[0][0]']      \n",
            " n)                                                                                               \n",
            "                                                                                                  \n",
            " conv3_block3_2_conv (Conv2D)   (None, 8, 8, 128)    147584      ['conv3_block3_1_relu[0][0]']    \n",
            "                                                                                                  \n",
            " conv3_block3_2_bn (BatchNormal  (None, 8, 8, 128)   512         ['conv3_block3_2_conv[0][0]']    \n",
            " ization)                                                                                         \n",
            "                                                                                                  \n",
            " conv3_block3_2_relu (Activatio  (None, 8, 8, 128)   0           ['conv3_block3_2_bn[0][0]']      \n",
            " n)                                                                                               \n",
            "                                                                                                  \n",
            " conv3_block3_3_conv (Conv2D)   (None, 8, 8, 512)    66048       ['conv3_block3_2_relu[0][0]']    \n",
            "                                                                                                  \n",
            " conv3_block3_3_bn (BatchNormal  (None, 8, 8, 512)   2048        ['conv3_block3_3_conv[0][0]']    \n",
            " ization)                                                                                         \n",
            "                                                                                                  \n",
            " conv3_block3_add (Add)         (None, 8, 8, 512)    0           ['conv3_block2_out[0][0]',       \n",
            "                                                                  'conv3_block3_3_bn[0][0]']      \n",
            "                                                                                                  \n",
            " conv3_block3_out (Activation)  (None, 8, 8, 512)    0           ['conv3_block3_add[0][0]']       \n",
            "                                                                                                  \n",
            " conv3_block4_1_conv (Conv2D)   (None, 8, 8, 128)    65664       ['conv3_block3_out[0][0]']       \n",
            "                                                                                                  \n",
            " conv3_block4_1_bn (BatchNormal  (None, 8, 8, 128)   512         ['conv3_block4_1_conv[0][0]']    \n",
            " ization)                                                                                         \n",
            "                                                                                                  \n",
            " conv3_block4_1_relu (Activatio  (None, 8, 8, 128)   0           ['conv3_block4_1_bn[0][0]']      \n",
            " n)                                                                                               \n",
            "                                                                                                  \n",
            " conv3_block4_2_conv (Conv2D)   (None, 8, 8, 128)    147584      ['conv3_block4_1_relu[0][0]']    \n",
            "                                                                                                  \n",
            " conv3_block4_2_bn (BatchNormal  (None, 8, 8, 128)   512         ['conv3_block4_2_conv[0][0]']    \n",
            " ization)                                                                                         \n",
            "                                                                                                  \n",
            " conv3_block4_2_relu (Activatio  (None, 8, 8, 128)   0           ['conv3_block4_2_bn[0][0]']      \n",
            " n)                                                                                               \n",
            "                                                                                                  \n",
            " conv3_block4_3_conv (Conv2D)   (None, 8, 8, 512)    66048       ['conv3_block4_2_relu[0][0]']    \n",
            "                                                                                                  \n",
            " conv3_block4_3_bn (BatchNormal  (None, 8, 8, 512)   2048        ['conv3_block4_3_conv[0][0]']    \n",
            " ization)                                                                                         \n",
            "                                                                                                  \n",
            " conv3_block4_add (Add)         (None, 8, 8, 512)    0           ['conv3_block3_out[0][0]',       \n",
            "                                                                  'conv3_block4_3_bn[0][0]']      \n",
            "                                                                                                  \n",
            " conv3_block4_out (Activation)  (None, 8, 8, 512)    0           ['conv3_block4_add[0][0]']       \n",
            "                                                                                                  \n",
            " conv4_block1_1_conv (Conv2D)   (None, 4, 4, 256)    131328      ['conv3_block4_out[0][0]']       \n",
            "                                                                                                  \n",
            " conv4_block1_1_bn (BatchNormal  (None, 4, 4, 256)   1024        ['conv4_block1_1_conv[0][0]']    \n",
            " ization)                                                                                         \n",
            "                                                                                                  \n",
            " conv4_block1_1_relu (Activatio  (None, 4, 4, 256)   0           ['conv4_block1_1_bn[0][0]']      \n",
            " n)                                                                                               \n",
            "                                                                                                  \n",
            " conv4_block1_2_conv (Conv2D)   (None, 4, 4, 256)    590080      ['conv4_block1_1_relu[0][0]']    \n",
            "                                                                                                  \n",
            " conv4_block1_2_bn (BatchNormal  (None, 4, 4, 256)   1024        ['conv4_block1_2_conv[0][0]']    \n",
            " ization)                                                                                         \n",
            "                                                                                                  \n",
            " conv4_block1_2_relu (Activatio  (None, 4, 4, 256)   0           ['conv4_block1_2_bn[0][0]']      \n",
            " n)                                                                                               \n",
            "                                                                                                  \n",
            " conv4_block1_0_conv (Conv2D)   (None, 4, 4, 1024)   525312      ['conv3_block4_out[0][0]']       \n",
            "                                                                                                  \n",
            " conv4_block1_3_conv (Conv2D)   (None, 4, 4, 1024)   263168      ['conv4_block1_2_relu[0][0]']    \n",
            "                                                                                                  \n",
            " conv4_block1_0_bn (BatchNormal  (None, 4, 4, 1024)  4096        ['conv4_block1_0_conv[0][0]']    \n",
            " ization)                                                                                         \n",
            "                                                                                                  \n",
            " conv4_block1_3_bn (BatchNormal  (None, 4, 4, 1024)  4096        ['conv4_block1_3_conv[0][0]']    \n",
            " ization)                                                                                         \n",
            "                                                                                                  \n",
            " conv4_block1_add (Add)         (None, 4, 4, 1024)   0           ['conv4_block1_0_bn[0][0]',      \n",
            "                                                                  'conv4_block1_3_bn[0][0]']      \n",
            "                                                                                                  \n",
            " conv4_block1_out (Activation)  (None, 4, 4, 1024)   0           ['conv4_block1_add[0][0]']       \n",
            "                                                                                                  \n",
            " conv4_block2_1_conv (Conv2D)   (None, 4, 4, 256)    262400      ['conv4_block1_out[0][0]']       \n",
            "                                                                                                  \n",
            " conv4_block2_1_bn (BatchNormal  (None, 4, 4, 256)   1024        ['conv4_block2_1_conv[0][0]']    \n",
            " ization)                                                                                         \n",
            "                                                                                                  \n",
            " conv4_block2_1_relu (Activatio  (None, 4, 4, 256)   0           ['conv4_block2_1_bn[0][0]']      \n",
            " n)                                                                                               \n",
            "                                                                                                  \n",
            " conv4_block2_2_conv (Conv2D)   (None, 4, 4, 256)    590080      ['conv4_block2_1_relu[0][0]']    \n",
            "                                                                                                  \n",
            " conv4_block2_2_bn (BatchNormal  (None, 4, 4, 256)   1024        ['conv4_block2_2_conv[0][0]']    \n",
            " ization)                                                                                         \n",
            "                                                                                                  \n",
            " conv4_block2_2_relu (Activatio  (None, 4, 4, 256)   0           ['conv4_block2_2_bn[0][0]']      \n",
            " n)                                                                                               \n",
            "                                                                                                  \n",
            " conv4_block2_3_conv (Conv2D)   (None, 4, 4, 1024)   263168      ['conv4_block2_2_relu[0][0]']    \n",
            "                                                                                                  \n",
            " conv4_block2_3_bn (BatchNormal  (None, 4, 4, 1024)  4096        ['conv4_block2_3_conv[0][0]']    \n",
            " ization)                                                                                         \n",
            "                                                                                                  \n",
            " conv4_block2_add (Add)         (None, 4, 4, 1024)   0           ['conv4_block1_out[0][0]',       \n",
            "                                                                  'conv4_block2_3_bn[0][0]']      \n",
            "                                                                                                  \n",
            " conv4_block2_out (Activation)  (None, 4, 4, 1024)   0           ['conv4_block2_add[0][0]']       \n",
            "                                                                                                  \n",
            " conv4_block3_1_conv (Conv2D)   (None, 4, 4, 256)    262400      ['conv4_block2_out[0][0]']       \n",
            "                                                                                                  \n",
            " conv4_block3_1_bn (BatchNormal  (None, 4, 4, 256)   1024        ['conv4_block3_1_conv[0][0]']    \n",
            " ization)                                                                                         \n",
            "                                                                                                  \n",
            " conv4_block3_1_relu (Activatio  (None, 4, 4, 256)   0           ['conv4_block3_1_bn[0][0]']      \n",
            " n)                                                                                               \n",
            "                                                                                                  \n",
            " conv4_block3_2_conv (Conv2D)   (None, 4, 4, 256)    590080      ['conv4_block3_1_relu[0][0]']    \n",
            "                                                                                                  \n",
            " conv4_block3_2_bn (BatchNormal  (None, 4, 4, 256)   1024        ['conv4_block3_2_conv[0][0]']    \n",
            " ization)                                                                                         \n",
            "                                                                                                  \n",
            " conv4_block3_2_relu (Activatio  (None, 4, 4, 256)   0           ['conv4_block3_2_bn[0][0]']      \n",
            " n)                                                                                               \n",
            "                                                                                                  \n",
            " conv4_block3_3_conv (Conv2D)   (None, 4, 4, 1024)   263168      ['conv4_block3_2_relu[0][0]']    \n",
            "                                                                                                  \n",
            " conv4_block3_3_bn (BatchNormal  (None, 4, 4, 1024)  4096        ['conv4_block3_3_conv[0][0]']    \n",
            " ization)                                                                                         \n",
            "                                                                                                  \n",
            " conv4_block3_add (Add)         (None, 4, 4, 1024)   0           ['conv4_block2_out[0][0]',       \n",
            "                                                                  'conv4_block3_3_bn[0][0]']      \n",
            "                                                                                                  \n",
            " conv4_block3_out (Activation)  (None, 4, 4, 1024)   0           ['conv4_block3_add[0][0]']       \n",
            "                                                                                                  \n",
            " conv4_block4_1_conv (Conv2D)   (None, 4, 4, 256)    262400      ['conv4_block3_out[0][0]']       \n",
            "                                                                                                  \n",
            " conv4_block4_1_bn (BatchNormal  (None, 4, 4, 256)   1024        ['conv4_block4_1_conv[0][0]']    \n",
            " ization)                                                                                         \n",
            "                                                                                                  \n",
            " conv4_block4_1_relu (Activatio  (None, 4, 4, 256)   0           ['conv4_block4_1_bn[0][0]']      \n",
            " n)                                                                                               \n",
            "                                                                                                  \n",
            " conv4_block4_2_conv (Conv2D)   (None, 4, 4, 256)    590080      ['conv4_block4_1_relu[0][0]']    \n",
            "                                                                                                  \n",
            " conv4_block4_2_bn (BatchNormal  (None, 4, 4, 256)   1024        ['conv4_block4_2_conv[0][0]']    \n",
            " ization)                                                                                         \n",
            "                                                                                                  \n",
            " conv4_block4_2_relu (Activatio  (None, 4, 4, 256)   0           ['conv4_block4_2_bn[0][0]']      \n",
            " n)                                                                                               \n",
            "                                                                                                  \n",
            " conv4_block4_3_conv (Conv2D)   (None, 4, 4, 1024)   263168      ['conv4_block4_2_relu[0][0]']    \n",
            "                                                                                                  \n",
            " conv4_block4_3_bn (BatchNormal  (None, 4, 4, 1024)  4096        ['conv4_block4_3_conv[0][0]']    \n",
            " ization)                                                                                         \n",
            "                                                                                                  \n",
            " conv4_block4_add (Add)         (None, 4, 4, 1024)   0           ['conv4_block3_out[0][0]',       \n",
            "                                                                  'conv4_block4_3_bn[0][0]']      \n",
            "                                                                                                  \n",
            " conv4_block4_out (Activation)  (None, 4, 4, 1024)   0           ['conv4_block4_add[0][0]']       \n",
            "                                                                                                  \n",
            " conv4_block5_1_conv (Conv2D)   (None, 4, 4, 256)    262400      ['conv4_block4_out[0][0]']       \n",
            "                                                                                                  \n",
            " conv4_block5_1_bn (BatchNormal  (None, 4, 4, 256)   1024        ['conv4_block5_1_conv[0][0]']    \n",
            " ization)                                                                                         \n",
            "                                                                                                  \n",
            " conv4_block5_1_relu (Activatio  (None, 4, 4, 256)   0           ['conv4_block5_1_bn[0][0]']      \n",
            " n)                                                                                               \n",
            "                                                                                                  \n",
            " conv4_block5_2_conv (Conv2D)   (None, 4, 4, 256)    590080      ['conv4_block5_1_relu[0][0]']    \n",
            "                                                                                                  \n",
            " conv4_block5_2_bn (BatchNormal  (None, 4, 4, 256)   1024        ['conv4_block5_2_conv[0][0]']    \n",
            " ization)                                                                                         \n",
            "                                                                                                  \n",
            " conv4_block5_2_relu (Activatio  (None, 4, 4, 256)   0           ['conv4_block5_2_bn[0][0]']      \n",
            " n)                                                                                               \n",
            "                                                                                                  \n",
            " conv4_block5_3_conv (Conv2D)   (None, 4, 4, 1024)   263168      ['conv4_block5_2_relu[0][0]']    \n",
            "                                                                                                  \n",
            " conv4_block5_3_bn (BatchNormal  (None, 4, 4, 1024)  4096        ['conv4_block5_3_conv[0][0]']    \n",
            " ization)                                                                                         \n",
            "                                                                                                  \n",
            " conv4_block5_add (Add)         (None, 4, 4, 1024)   0           ['conv4_block4_out[0][0]',       \n",
            "                                                                  'conv4_block5_3_bn[0][0]']      \n",
            "                                                                                                  \n",
            " conv4_block5_out (Activation)  (None, 4, 4, 1024)   0           ['conv4_block5_add[0][0]']       \n",
            "                                                                                                  \n",
            " conv4_block6_1_conv (Conv2D)   (None, 4, 4, 256)    262400      ['conv4_block5_out[0][0]']       \n",
            "                                                                                                  \n",
            " conv4_block6_1_bn (BatchNormal  (None, 4, 4, 256)   1024        ['conv4_block6_1_conv[0][0]']    \n",
            " ization)                                                                                         \n",
            "                                                                                                  \n",
            " conv4_block6_1_relu (Activatio  (None, 4, 4, 256)   0           ['conv4_block6_1_bn[0][0]']      \n",
            " n)                                                                                               \n",
            "                                                                                                  \n",
            " conv4_block6_2_conv (Conv2D)   (None, 4, 4, 256)    590080      ['conv4_block6_1_relu[0][0]']    \n",
            "                                                                                                  \n",
            " conv4_block6_2_bn (BatchNormal  (None, 4, 4, 256)   1024        ['conv4_block6_2_conv[0][0]']    \n",
            " ization)                                                                                         \n",
            "                                                                                                  \n",
            " conv4_block6_2_relu (Activatio  (None, 4, 4, 256)   0           ['conv4_block6_2_bn[0][0]']      \n",
            " n)                                                                                               \n",
            "                                                                                                  \n",
            " conv4_block6_3_conv (Conv2D)   (None, 4, 4, 1024)   263168      ['conv4_block6_2_relu[0][0]']    \n",
            "                                                                                                  \n",
            " conv4_block6_3_bn (BatchNormal  (None, 4, 4, 1024)  4096        ['conv4_block6_3_conv[0][0]']    \n",
            " ization)                                                                                         \n",
            "                                                                                                  \n",
            " conv4_block6_add (Add)         (None, 4, 4, 1024)   0           ['conv4_block5_out[0][0]',       \n",
            "                                                                  'conv4_block6_3_bn[0][0]']      \n",
            "                                                                                                  \n",
            " conv4_block6_out (Activation)  (None, 4, 4, 1024)   0           ['conv4_block6_add[0][0]']       \n",
            "                                                                                                  \n",
            " conv5_block1_1_conv (Conv2D)   (None, 2, 2, 512)    524800      ['conv4_block6_out[0][0]']       \n",
            "                                                                                                  \n",
            " conv5_block1_1_bn (BatchNormal  (None, 2, 2, 512)   2048        ['conv5_block1_1_conv[0][0]']    \n",
            " ization)                                                                                         \n",
            "                                                                                                  \n",
            " conv5_block1_1_relu (Activatio  (None, 2, 2, 512)   0           ['conv5_block1_1_bn[0][0]']      \n",
            " n)                                                                                               \n",
            "                                                                                                  \n",
            " conv5_block1_2_conv (Conv2D)   (None, 2, 2, 512)    2359808     ['conv5_block1_1_relu[0][0]']    \n",
            "                                                                                                  \n",
            " conv5_block1_2_bn (BatchNormal  (None, 2, 2, 512)   2048        ['conv5_block1_2_conv[0][0]']    \n",
            " ization)                                                                                         \n",
            "                                                                                                  \n",
            " conv5_block1_2_relu (Activatio  (None, 2, 2, 512)   0           ['conv5_block1_2_bn[0][0]']      \n",
            " n)                                                                                               \n",
            "                                                                                                  \n",
            " conv5_block1_0_conv (Conv2D)   (None, 2, 2, 2048)   2099200     ['conv4_block6_out[0][0]']       \n",
            "                                                                                                  \n",
            " conv5_block1_3_conv (Conv2D)   (None, 2, 2, 2048)   1050624     ['conv5_block1_2_relu[0][0]']    \n",
            "                                                                                                  \n",
            " conv5_block1_0_bn (BatchNormal  (None, 2, 2, 2048)  8192        ['conv5_block1_0_conv[0][0]']    \n",
            " ization)                                                                                         \n",
            "                                                                                                  \n",
            " conv5_block1_3_bn (BatchNormal  (None, 2, 2, 2048)  8192        ['conv5_block1_3_conv[0][0]']    \n",
            " ization)                                                                                         \n",
            "                                                                                                  \n",
            " conv5_block1_add (Add)         (None, 2, 2, 2048)   0           ['conv5_block1_0_bn[0][0]',      \n",
            "                                                                  'conv5_block1_3_bn[0][0]']      \n",
            "                                                                                                  \n",
            " conv5_block1_out (Activation)  (None, 2, 2, 2048)   0           ['conv5_block1_add[0][0]']       \n",
            "                                                                                                  \n",
            " conv5_block2_1_conv (Conv2D)   (None, 2, 2, 512)    1049088     ['conv5_block1_out[0][0]']       \n",
            "                                                                                                  \n",
            " conv5_block2_1_bn (BatchNormal  (None, 2, 2, 512)   2048        ['conv5_block2_1_conv[0][0]']    \n",
            " ization)                                                                                         \n",
            "                                                                                                  \n",
            " conv5_block2_1_relu (Activatio  (None, 2, 2, 512)   0           ['conv5_block2_1_bn[0][0]']      \n",
            " n)                                                                                               \n",
            "                                                                                                  \n",
            " conv5_block2_2_conv (Conv2D)   (None, 2, 2, 512)    2359808     ['conv5_block2_1_relu[0][0]']    \n",
            "                                                                                                  \n",
            " conv5_block2_2_bn (BatchNormal  (None, 2, 2, 512)   2048        ['conv5_block2_2_conv[0][0]']    \n",
            " ization)                                                                                         \n",
            "                                                                                                  \n",
            " conv5_block2_2_relu (Activatio  (None, 2, 2, 512)   0           ['conv5_block2_2_bn[0][0]']      \n",
            " n)                                                                                               \n",
            "                                                                                                  \n",
            " conv5_block2_3_conv (Conv2D)   (None, 2, 2, 2048)   1050624     ['conv5_block2_2_relu[0][0]']    \n",
            "                                                                                                  \n",
            " conv5_block2_3_bn (BatchNormal  (None, 2, 2, 2048)  8192        ['conv5_block2_3_conv[0][0]']    \n",
            " ization)                                                                                         \n",
            "                                                                                                  \n",
            " conv5_block2_add (Add)         (None, 2, 2, 2048)   0           ['conv5_block1_out[0][0]',       \n",
            "                                                                  'conv5_block2_3_bn[0][0]']      \n",
            "                                                                                                  \n",
            " conv5_block2_out (Activation)  (None, 2, 2, 2048)   0           ['conv5_block2_add[0][0]']       \n",
            "                                                                                                  \n",
            " conv5_block3_1_conv (Conv2D)   (None, 2, 2, 512)    1049088     ['conv5_block2_out[0][0]']       \n",
            "                                                                                                  \n",
            " conv5_block3_1_bn (BatchNormal  (None, 2, 2, 512)   2048        ['conv5_block3_1_conv[0][0]']    \n",
            " ization)                                                                                         \n",
            "                                                                                                  \n",
            " conv5_block3_1_relu (Activatio  (None, 2, 2, 512)   0           ['conv5_block3_1_bn[0][0]']      \n",
            " n)                                                                                               \n",
            "                                                                                                  \n",
            " conv5_block3_2_conv (Conv2D)   (None, 2, 2, 512)    2359808     ['conv5_block3_1_relu[0][0]']    \n",
            "                                                                                                  \n",
            " conv5_block3_2_bn (BatchNormal  (None, 2, 2, 512)   2048        ['conv5_block3_2_conv[0][0]']    \n",
            " ization)                                                                                         \n",
            "                                                                                                  \n",
            " conv5_block3_2_relu (Activatio  (None, 2, 2, 512)   0           ['conv5_block3_2_bn[0][0]']      \n",
            " n)                                                                                               \n",
            "                                                                                                  \n",
            " conv5_block3_3_conv (Conv2D)   (None, 2, 2, 2048)   1050624     ['conv5_block3_2_relu[0][0]']    \n",
            "                                                                                                  \n",
            " conv5_block3_3_bn (BatchNormal  (None, 2, 2, 2048)  8192        ['conv5_block3_3_conv[0][0]']    \n",
            " ization)                                                                                         \n",
            "                                                                                                  \n",
            " conv5_block3_add (Add)         (None, 2, 2, 2048)   0           ['conv5_block2_out[0][0]',       \n",
            "                                                                  'conv5_block3_3_bn[0][0]']      \n",
            "                                                                                                  \n",
            " conv5_block3_out (Activation)  (None, 2, 2, 2048)   0           ['conv5_block3_add[0][0]']       \n",
            "                                                                                                  \n",
            " max_pool (GlobalMaxPooling2D)  (None, 2048)         0           ['conv5_block3_out[0][0]']       \n",
            "                                                                                                  \n",
            " fully (Dense)                  (None, 32)           65568       ['max_pool[0][0]']               \n",
            "                                                                                                  \n",
            " batch_normalization (BatchNorm  (None, 32)          128         ['fully[0][0]']                  \n",
            " alization)                                                                                       \n",
            "                                                                                                  \n",
            " activation (Activation)        (None, 32)           0           ['batch_normalization[0][0]']    \n",
            "                                                                                                  \n",
            " dense_2 (Dense)                (None, 64)           2112        ['activation[0][0]']             \n",
            "                                                                                                  \n",
            " batch_normalization_1 (BatchNo  (None, 64)          256         ['dense_2[0][0]']                \n",
            " rmalization)                                                                                     \n",
            "                                                                                                  \n",
            " activation_1 (Activation)      (None, 64)           0           ['batch_normalization_1[0][0]']  \n",
            "                                                                                                  \n",
            " dropout_3 (Dropout)            (None, 64)           0           ['activation_1[0][0]']           \n",
            "                                                                                                  \n",
            " softmax (Dense)                (None, 11)           715         ['dropout_3[0][0]']              \n",
            "                                                                                                  \n",
            "==================================================================================================\n",
            "Total params: 23,656,491\n",
            "Trainable params: 23,603,179\n",
            "Non-trainable params: 53,312\n",
            "__________________________________________________________________________________________________\n",
            "Epoch 1/40\n",
            "27/27 - 154s - loss: 2.7887 - acc: 0.0944 - val_loss: 2.3974 - val_acc: 0.1111 - 154s/epoch - 6s/step\n",
            "Epoch 2/40\n",
            "27/27 - 141s - loss: 2.5885 - acc: 0.1259 - val_loss: 2.3980 - val_acc: 0.1170 - 141s/epoch - 5s/step\n",
            "Epoch 3/40\n",
            "27/27 - 141s - loss: 2.5459 - acc: 0.1200 - val_loss: 2.4033 - val_acc: 0.0877 - 141s/epoch - 5s/step\n",
            "Epoch 4/40\n",
            "27/27 - 141s - loss: 2.3903 - acc: 0.1795 - val_loss: 2.4160 - val_acc: 0.0877 - 141s/epoch - 5s/step\n",
            "Epoch 5/40\n",
            "27/27 - 141s - loss: 2.3167 - acc: 0.2506 - val_loss: 2.4269 - val_acc: 0.0877 - 141s/epoch - 5s/step\n",
            "Epoch 6/40\n",
            "27/27 - 142s - loss: 2.2287 - acc: 0.2855 - val_loss: 2.4437 - val_acc: 0.0877 - 142s/epoch - 5s/step\n",
            "Epoch 7/40\n",
            "27/27 - 142s - loss: 2.2632 - acc: 0.2681 - val_loss: 2.4441 - val_acc: 0.0819 - 142s/epoch - 5s/step\n",
            "Epoch 8/40\n",
            "27/27 - 145s - loss: 2.0351 - acc: 0.3683 - val_loss: 2.4567 - val_acc: 0.0936 - 145s/epoch - 5s/step\n",
            "Epoch 9/40\n",
            "27/27 - 146s - loss: 2.0361 - acc: 0.3310 - val_loss: 2.6236 - val_acc: 0.0585 - 146s/epoch - 5s/step\n",
            "Epoch 10/40\n",
            "27/27 - 147s - loss: 1.8294 - acc: 0.4103 - val_loss: 2.7042 - val_acc: 0.0877 - 147s/epoch - 5s/step\n",
            "Epoch 11/40\n",
            "27/27 - 141s - loss: 1.6936 - acc: 0.4697 - val_loss: 2.4649 - val_acc: 0.1696 - 141s/epoch - 5s/step\n",
            "Epoch 12/40\n",
            "27/27 - 144s - loss: 1.5603 - acc: 0.5490 - val_loss: 2.5359 - val_acc: 0.1462 - 144s/epoch - 5s/step\n",
            "Epoch 13/40\n",
            "27/27 - 140s - loss: 1.3969 - acc: 0.6037 - val_loss: 2.5544 - val_acc: 0.1754 - 140s/epoch - 5s/step\n",
            "Epoch 14/40\n",
            "27/27 - 137s - loss: 1.2667 - acc: 0.6783 - val_loss: 2.3113 - val_acc: 0.2105 - 137s/epoch - 5s/step\n",
            "Epoch 15/40\n",
            "27/27 - 139s - loss: 1.2074 - acc: 0.7168 - val_loss: 2.5027 - val_acc: 0.1871 - 139s/epoch - 5s/step\n",
            "Epoch 16/40\n",
            "27/27 - 139s - loss: 1.1157 - acc: 0.7692 - val_loss: 2.0991 - val_acc: 0.3801 - 139s/epoch - 5s/step\n",
            "Epoch 17/40\n",
            "27/27 - 140s - loss: 1.1167 - acc: 0.7914 - val_loss: 1.8415 - val_acc: 0.4211 - 140s/epoch - 5s/step\n",
            "Epoch 18/40\n",
            "27/27 - 139s - loss: 1.0728 - acc: 0.8007 - val_loss: 1.7528 - val_acc: 0.4678 - 139s/epoch - 5s/step\n",
            "Epoch 19/40\n",
            "27/27 - 136s - loss: 1.0088 - acc: 0.8322 - val_loss: 1.8980 - val_acc: 0.4561 - 136s/epoch - 5s/step\n",
            "Epoch 20/40\n",
            "27/27 - 137s - loss: 1.0564 - acc: 0.8182 - val_loss: 1.6476 - val_acc: 0.5614 - 137s/epoch - 5s/step\n",
            "Epoch 21/40\n",
            "27/27 - 137s - loss: 0.9952 - acc: 0.8543 - val_loss: 1.0189 - val_acc: 0.8363 - 137s/epoch - 5s/step\n",
            "Epoch 22/40\n",
            "27/27 - 138s - loss: 0.9419 - acc: 0.8718 - val_loss: 1.0829 - val_acc: 0.7485 - 138s/epoch - 5s/step\n",
            "Epoch 23/40\n",
            "27/27 - 136s - loss: 0.9085 - acc: 0.8765 - val_loss: 1.6307 - val_acc: 0.5789 - 136s/epoch - 5s/step\n",
            "Epoch 24/40\n",
            "27/27 - 137s - loss: 0.9056 - acc: 0.8881 - val_loss: 0.9764 - val_acc: 0.8246 - 137s/epoch - 5s/step\n",
            "Epoch 25/40\n",
            "27/27 - 138s - loss: 0.9006 - acc: 0.8858 - val_loss: 1.4233 - val_acc: 0.6199 - 138s/epoch - 5s/step\n",
            "Epoch 26/40\n",
            "27/27 - 136s - loss: 0.8373 - acc: 0.9336 - val_loss: 1.6609 - val_acc: 0.5497 - 136s/epoch - 5s/step\n",
            "Epoch 27/40\n",
            "27/27 - 136s - loss: 0.8795 - acc: 0.9033 - val_loss: 1.1291 - val_acc: 0.7544 - 136s/epoch - 5s/step\n",
            "Epoch 28/40\n",
            "27/27 - 136s - loss: 0.9503 - acc: 0.8636 - val_loss: 1.5519 - val_acc: 0.5789 - 136s/epoch - 5s/step\n",
            "Epoch 29/40\n",
            "27/27 - 137s - loss: 0.9275 - acc: 0.8823 - val_loss: 1.9055 - val_acc: 0.4211 - 137s/epoch - 5s/step\n",
            "Epoch 30/40\n",
            "27/27 - 137s - loss: 0.9008 - acc: 0.8823 - val_loss: 1.2539 - val_acc: 0.7076 - 137s/epoch - 5s/step\n",
            "Epoch 31/40\n",
            "27/27 - 138s - loss: 0.8761 - acc: 0.9044 - val_loss: 0.9013 - val_acc: 0.8889 - 138s/epoch - 5s/step\n",
            "Epoch 32/40\n",
            "27/27 - 138s - loss: 0.7606 - acc: 0.9510 - val_loss: 1.7439 - val_acc: 0.5439 - 138s/epoch - 5s/step\n",
            "Epoch 33/40\n",
            "27/27 - 138s - loss: 0.8120 - acc: 0.9336 - val_loss: 0.9446 - val_acc: 0.8070 - 138s/epoch - 5s/step\n",
            "Epoch 34/40\n",
            "27/27 - 138s - loss: 0.7698 - acc: 0.9487 - val_loss: 1.7677 - val_acc: 0.5088 - 138s/epoch - 5s/step\n",
            "Epoch 35/40\n",
            "27/27 - 138s - loss: 0.8449 - acc: 0.9196 - val_loss: 1.0995 - val_acc: 0.7953 - 138s/epoch - 5s/step\n",
            "Epoch 36/40\n",
            "27/27 - 140s - loss: 0.8521 - acc: 0.9184 - val_loss: 0.9833 - val_acc: 0.8304 - 140s/epoch - 5s/step\n",
            "Epoch 37/40\n",
            "27/27 - 139s - loss: 0.7781 - acc: 0.9394 - val_loss: 0.7496 - val_acc: 0.9181 - 139s/epoch - 5s/step\n",
            "Epoch 38/40\n",
            "27/27 - 139s - loss: 0.7420 - acc: 0.9639 - val_loss: 0.7376 - val_acc: 0.9357 - 139s/epoch - 5s/step\n",
            "Epoch 39/40\n",
            "27/27 - 138s - loss: 0.7847 - acc: 0.9452 - val_loss: 2.2519 - val_acc: 0.3099 - 138s/epoch - 5s/step\n",
            "Epoch 40/40\n",
            "27/27 - 136s - loss: 0.7333 - acc: 0.9627 - val_loss: 1.3359 - val_acc: 0.6901 - 136s/epoch - 5s/step\n",
            "-- Evaluate --\n",
            "acc: 0.00%\n"
          ]
        },
        {
          "output_type": "execute_result",
          "data": {
            "text/plain": [
              "'\\n# Store the fully connected layers\\nfc1 = model.layers[-3]\\nfc2 = model.layers[-2]\\npredictions = model.layers[-1]s\\n# Create the dropout layers\\ndropout1 = Dropout(0.85)\\ndropout2 = Dropout(0.85)\\n# Reconnect the layers\\nx = dropout1(fc1.output)\\nx = fc2(x)\\nx = dropout2(x)\\npredictors = predictions(x)\\n# Create a new model\\nmodel2 = Model(inputs=model.input, outputs=predictors)\\nmodel2.summary()\\n'"
            ],
            "application/vnd.google.colaboratory.intrinsic+json": {
              "type": "string"
            }
          },
          "metadata": {},
          "execution_count": 36
        }
      ],
      "source": [
        "from tensorflow.keras.applications import ResNet50\n",
        "from keras.layers import Dense, Input, Activation\n",
        "from keras.models import Model\n",
        "from keras.callbacks import EarlyStopping, LambdaCallback\n",
        "from keras import optimizers\n",
        "from keras.preprocessing.image import ImageDataGenerator\n",
        "from tensorflow.keras.layers import BatchNormalization\n",
        "\n",
        "input = Input(shape=train_img[0].shape)\n",
        "model = ResNet50(input_tensor=input, include_top=False, weights=None, pooling='max')\n",
        "\n",
        "x = model.output\n",
        "x = Dense(32, name='fully')(x)\n",
        "x = BatchNormalization()(x)\n",
        "x = Activation('relu')(x)\n",
        "x = Dense(64)(x)\n",
        "x = BatchNormalization()(x)\n",
        "x = Activation('relu')(x)\n",
        "x=Dropout(0.5)(x)\n",
        "x = Dense(11, activation='softmax', name='softmax')(x)\n",
        "model = Model(model.input, x)\n",
        "model.summary()\n",
        "\n",
        "# train_datagen = ImageDataGenerator(rescale=1./255)#rgb값 reduce\n",
        "# train_generator = train_datagen.flow_from_directory(\n",
        "#         './train',\n",
        "#         target_size=(112, 112),\n",
        "#         batch_size=30,\n",
        "#         class_mode='categorical')\n",
        "\n",
        "# val_datagen = ImageDataGenerator(rescale=1./255)\n",
        "# val_generator = val_datagen.flow_from_directory(\n",
        "#         './test',\n",
        "#         target_size=(112, 112),\n",
        "#         batch_size=30,\n",
        "#         class_mode='categorical')\n",
        "\n",
        "model.compile(loss='categorical_crossentropy',\n",
        "                  #optimizer=optimizers.RMSprop(lr=2e-4),\n",
        "                  optimizer='adam',\n",
        "                  metrics=['acc'])\n",
        "\n",
        "print_weights = LambdaCallback(on_epoch_end=lambda epoch, logs: print(model.layers[3].get_weights()))\n",
        "early_stopping = EarlyStopping(patience=3, mode='auto', monitor='val_acc')\n",
        "history = model.fit(train_img,y,\n",
        "                              epochs=40,\n",
        "                              \n",
        "                              validation_data=(X_test, y_test),\n",
        "                              shuffle=True,\n",
        "                              verbose=2\n",
        "                              )\n",
        "\n",
        "#모델 평가\n",
        "print(\"-- Evaluate --\")\n",
        "scores = model.evaluate_generator(train_img[120:240], steps=5)\n",
        "print(\"%s: %.2f%%\" %(model.metrics_names[1], scores[1]*100))\n",
        "\n",
        "\n",
        "\"\"\"\n",
        "# Store the fully connected layers\n",
        "fc1 = model.layers[-3]\n",
        "fc2 = model.layers[-2]\n",
        "predictions = model.layers[-1]s\n",
        "# Create the dropout layers\n",
        "dropout1 = Dropout(0.85)\n",
        "dropout2 = Dropout(0.85)\n",
        "# Reconnect the layers\n",
        "x = dropout1(fc1.output)\n",
        "x = fc2(x)\n",
        "x = dropout2(x)\n",
        "predictors = predictions(x)\n",
        "# Create a new model\n",
        "model2 = Model(inputs=model.input, outputs=predictors)\n",
        "model2.summary()\n",
        "\"\"\""
      ]
    },
    {
      "cell_type": "code",
      "source": [
        "epochs = [i for i in range(40)]\n",
        "fig , ax = plt.subplots(1,2)\n",
        "train_acc = model1.history['accuracy']\n",
        "train_loss = model1.history['loss']\n",
        "val_acc = model1.history['val_accuracy']\n",
        "val_loss = model1.history['val_loss']\n",
        "fig.set_size_inches(16,9)\n",
        "\n",
        "ax[0].plot(epochs , train_acc , 'go-' , label = 'Training Accuracy')\n",
        "ax[0].plot(epochs , val_acc , 'ro-' , label = 'Testing Accuracy')\n",
        "ax[0].set_title('Training & Validation Accuracy')\n",
        "ax[0].legend()\n",
        "ax[0].set_xlabel(\"Epochs\")\n",
        "ax[0].set_ylabel(\"Accuracy\")\n",
        "\n",
        "ax[1].plot(epochs , train_loss , 'g-o' , label = 'Training Loss')\n",
        "ax[1].plot(epochs , val_loss , 'r-o' , label = 'Testing Loss')\n",
        "ax[1].set_title('Testing Accuracy & Loss')\n",
        "ax[1].legend()\n",
        "ax[1].set_xlabel(\"Epochs\")\n",
        "ax[1].set_ylabel(\"Loss\")\n",
        "plt.show()"
      ],
      "metadata": {
        "id": "GLB98P2QiuPV",
        "outputId": "7d41ab49-ea08-40cd-c33d-43c8a47e0d73",
        "colab": {
          "base_uri": "https://localhost:8080/",
          "height": 513
        }
      },
      "execution_count": 45,
      "outputs": [
        {
          "output_type": "error",
          "ename": "TypeError",
          "evalue": "ignored",
          "traceback": [
            "\u001b[0;31m---------------------------------------------------------------------------\u001b[0m",
            "\u001b[0;31mTypeError\u001b[0m                                 Traceback (most recent call last)",
            "\u001b[0;32m<ipython-input-45-bc0f52cb3f81>\u001b[0m in \u001b[0;36m<module>\u001b[0;34m()\u001b[0m\n\u001b[1;32m      1\u001b[0m \u001b[0mepochs\u001b[0m \u001b[0;34m=\u001b[0m \u001b[0;34m[\u001b[0m\u001b[0mi\u001b[0m \u001b[0;32mfor\u001b[0m \u001b[0mi\u001b[0m \u001b[0;32min\u001b[0m \u001b[0mrange\u001b[0m\u001b[0;34m(\u001b[0m\u001b[0;36m40\u001b[0m\u001b[0;34m)\u001b[0m\u001b[0;34m]\u001b[0m\u001b[0;34m\u001b[0m\u001b[0;34m\u001b[0m\u001b[0m\n\u001b[1;32m      2\u001b[0m \u001b[0mfig\u001b[0m \u001b[0;34m,\u001b[0m \u001b[0max\u001b[0m \u001b[0;34m=\u001b[0m \u001b[0mplt\u001b[0m\u001b[0;34m.\u001b[0m\u001b[0msubplots\u001b[0m\u001b[0;34m(\u001b[0m\u001b[0;36m1\u001b[0m\u001b[0;34m,\u001b[0m\u001b[0;36m2\u001b[0m\u001b[0;34m)\u001b[0m\u001b[0;34m\u001b[0m\u001b[0;34m\u001b[0m\u001b[0m\n\u001b[0;32m----> 3\u001b[0;31m \u001b[0mtrain_acc\u001b[0m \u001b[0;34m=\u001b[0m \u001b[0mmodel1\u001b[0m\u001b[0;34m.\u001b[0m\u001b[0mhistory\u001b[0m\u001b[0;34m[\u001b[0m\u001b[0;34m'accuracy'\u001b[0m\u001b[0;34m]\u001b[0m\u001b[0;34m\u001b[0m\u001b[0;34m\u001b[0m\u001b[0m\n\u001b[0m\u001b[1;32m      4\u001b[0m \u001b[0mtrain_loss\u001b[0m \u001b[0;34m=\u001b[0m \u001b[0mmodel1\u001b[0m\u001b[0;34m.\u001b[0m\u001b[0mhistory\u001b[0m\u001b[0;34m[\u001b[0m\u001b[0;34m'loss'\u001b[0m\u001b[0;34m]\u001b[0m\u001b[0;34m\u001b[0m\u001b[0;34m\u001b[0m\u001b[0m\n\u001b[1;32m      5\u001b[0m \u001b[0mval_acc\u001b[0m \u001b[0;34m=\u001b[0m \u001b[0mmodel1\u001b[0m\u001b[0;34m.\u001b[0m\u001b[0mhistory\u001b[0m\u001b[0;34m[\u001b[0m\u001b[0;34m'val_accuracy'\u001b[0m\u001b[0;34m]\u001b[0m\u001b[0;34m\u001b[0m\u001b[0;34m\u001b[0m\u001b[0m\n",
            "\u001b[0;31mTypeError\u001b[0m: 'History' object is not subscriptable"
          ]
        },
        {
          "output_type": "display_data",
          "data": {
            "text/plain": [
              "<Figure size 432x288 with 2 Axes>"
            ],
            "image/png": "[encoded data removed]"
          },
          "metadata": {}
        }
      ]
    },
    {
      "cell_type": "code",
      "source": [
        "model1.save('saved_model1')"
      ],
      "metadata": {
        "id": "_It_o-S7jDNA",
        "outputId": "782038a4-4405-4454-94d0-e45a3ec1f2b6",
        "colab": {
          "base_uri": "https://localhost:8080/"
        }
      },
      "execution_count": 46,
      "outputs": [
        {
          "output_type": "stream",
          "name": "stdout",
          "text": [
            "INFO:tensorflow:Assets written to: saved_model1/assets\n"
          ]
        }
      ]
    },
    {
      "cell_type": "code",
      "source": [
        "print(\"Accuracy of the model is - \" , model.evaluate(train_img[800:1200],y[800:1200])[1]*100 , \"%\")"
      ],
      "metadata": {
        "colab": {
          "base_uri": "https://localhost:8080/"
        },
        "id": "VE0tv7_bkeJe",
        "outputId": "d23ec406-08ed-4071-87e6-2243f17afb87"
      },
      "execution_count": 37,
      "outputs": [
        {
          "output_type": "stream",
          "name": "stdout",
          "text": [
            "2/2 [==============================] - 1s 383ms/step - loss: 1.2785 - acc: 0.7241\n",
            "Accuracy of the model is -  72.41379022598267 %\n"
          ]
        }
      ]
    },
    {
      "cell_type": "markdown",
      "source": [
        "# 대체로 90%정도의 정확도를 보인다."
      ],
      "metadata": {
        "id": "rSgo7JlDkuYD"
      }
    },
    {
      "cell_type": "markdown",
      "source": [
        "###Efficient B0 -> 왜 인지는 모르겠지만 10%이상 맞추지를 못한다....."
      ],
      "metadata": {
        "id": "hxRgrnwxxnMp"
      }
    },
    {
      "cell_type": "code",
      "source": [
        "!pip install efficientnet"
      ],
      "metadata": {
        "colab": {
          "base_uri": "https://localhost:8080/"
        },
        "id": "tJ2dCyQvPvMW",
        "outputId": "81b93b02-b0da-499c-ad84-d979703e7fe9"
      },
      "execution_count": 38,
      "outputs": [
        {
          "output_type": "stream",
          "name": "stdout",
          "text": [
            "Looking in indexes: https://pypi.org/simple, https://us-python.pkg.dev/colab-wheels/public/simple/\n",
            "Collecting efficientnet\n",
            "  Downloading efficientnet-1.1.1-py3-none-any.whl (18 kB)\n",
            "Collecting keras-applications<=1.0.8,>=1.0.7\n",
            "  Downloading Keras_Applications-1.0.8-py3-none-any.whl (50 kB)\n",
            "\u001b[K     |████████████████████████████████| 50 kB 2.9 MB/s \n",
            "\u001b[?25hRequirement already satisfied: scikit-image in /usr/local/lib/python3.7/dist-packages (from efficientnet) (0.18.3)\n",
            "Requirement already satisfied: numpy>=1.9.1 in /usr/local/lib/python3.7/dist-packages (from keras-applications<=1.0.8,>=1.0.7->efficientnet) (1.21.6)\n",
            "Requirement already satisfied: h5py in /usr/local/lib/python3.7/dist-packages (from keras-applications<=1.0.8,>=1.0.7->efficientnet) (3.1.0)\n",
            "Requirement already satisfied: cached-property in /usr/local/lib/python3.7/dist-packages (from h5py->keras-applications<=1.0.8,>=1.0.7->efficientnet) (1.5.2)\n",
            "Requirement already satisfied: scipy>=1.0.1 in /usr/local/lib/python3.7/dist-packages (from scikit-image->efficientnet) (1.4.1)\n",
            "Requirement already satisfied: matplotlib!=3.0.0,>=2.0.0 in /usr/local/lib/python3.7/dist-packages (from scikit-image->efficientnet) (3.2.2)\n",
            "Requirement already satisfied: tifffile>=2019.7.26 in /usr/local/lib/python3.7/dist-packages (from scikit-image->efficientnet) (2021.11.2)\n",
            "Requirement already satisfied: PyWavelets>=1.1.1 in /usr/local/lib/python3.7/dist-packages (from scikit-image->efficientnet) (1.3.0)\n",
            "Requirement already satisfied: networkx>=2.0 in /usr/local/lib/python3.7/dist-packages (from scikit-image->efficientnet) (2.6.3)\n",
            "Requirement already satisfied: pillow!=7.1.0,!=7.1.1,>=4.3.0 in /usr/local/lib/python3.7/dist-packages (from scikit-image->efficientnet) (7.1.2)\n",
            "Requirement already satisfied: imageio>=2.3.0 in /usr/local/lib/python3.7/dist-packages (from scikit-image->efficientnet) (2.4.1)\n",
            "Requirement already satisfied: pyparsing!=2.0.4,!=2.1.2,!=2.1.6,>=2.0.1 in /usr/local/lib/python3.7/dist-packages (from matplotlib!=3.0.0,>=2.0.0->scikit-image->efficientnet) (3.0.9)\n",
            "Requirement already satisfied: cycler>=0.10 in /usr/local/lib/python3.7/dist-packages (from matplotlib!=3.0.0,>=2.0.0->scikit-image->efficientnet) (0.11.0)\n",
            "Requirement already satisfied: kiwisolver>=1.0.1 in /usr/local/lib/python3.7/dist-packages (from matplotlib!=3.0.0,>=2.0.0->scikit-image->efficientnet) (1.4.2)\n",
            "Requirement already satisfied: python-dateutil>=2.1 in /usr/local/lib/python3.7/dist-packages (from matplotlib!=3.0.0,>=2.0.0->scikit-image->efficientnet) (2.8.2)\n",
            "Requirement already satisfied: typing-extensions in /usr/local/lib/python3.7/dist-packages (from kiwisolver>=1.0.1->matplotlib!=3.0.0,>=2.0.0->scikit-image->efficientnet) (4.2.0)\n",
            "Requirement already satisfied: six>=1.5 in /usr/local/lib/python3.7/dist-packages (from python-dateutil>=2.1->matplotlib!=3.0.0,>=2.0.0->scikit-image->efficientnet) (1.15.0)\n",
            "Installing collected packages: keras-applications, efficientnet\n",
            "Successfully installed efficientnet-1.1.1 keras-applications-1.0.8\n"
          ]
        }
      ]
    },
    {
      "cell_type": "code",
      "source": [
        "import efficientnet.keras as efn\n",
        "from keras.layers import GlobalAveragePooling2D"
      ],
      "metadata": {
        "id": "Vs21riFsPeb9"
      },
      "execution_count": 39,
      "outputs": []
    },
    {
      "cell_type": "code",
      "source": [
        "train_img[0].shape"
      ],
      "metadata": {
        "colab": {
          "base_uri": "https://localhost:8080/"
        },
        "id": "TolGZO2SpeuO",
        "outputId": "8e59078a-3e79-460f-91a8-b207c2b6ea3a"
      },
      "execution_count": 40,
      "outputs": [
        {
          "output_type": "execute_result",
          "data": {
            "text/plain": [
              "(64, 64, 3)"
            ]
          },
          "metadata": {},
          "execution_count": 40
        }
      ]
    },
    {
      "cell_type": "code",
      "source": [
        "efnb0 = efn.EfficientNetB0(weights=None, include_top=False, input_shape=train_img[0].shape, classes=11)\n",
        "\n",
        "model = Sequential()\n",
        "model.add(efnb0)\n",
        "model.add(GlobalAveragePooling2D())\n",
        "model.add(Dropout(0.5))\n",
        "model.add(Dense(11, activation='softmax'))\n",
        "\n",
        "model.summary()"
      ],
      "metadata": {
        "colab": {
          "base_uri": "https://localhost:8080/"
        },
        "id": "_PrDVqmjjqQ6",
        "outputId": "708ac9e4-1b66-474b-cd88-d8342b1fe5e8"
      },
      "execution_count": 41,
      "outputs": [
        {
          "output_type": "stream",
          "name": "stdout",
          "text": [
            "Model: \"sequential_1\"\n",
            "_________________________________________________________________\n",
            " Layer (type)                Output Shape              Param #   \n",
            "=================================================================\n",
            " efficientnet-b0 (Functional  (None, 2, 2, 1280)       4049564   \n",
            " )                                                               \n",
            "                                                                 \n",
            " global_average_pooling2d (G  (None, 1280)             0         \n",
            " lobalAveragePooling2D)                                          \n",
            "                                                                 \n",
            " dropout_4 (Dropout)         (None, 1280)              0         \n",
            "                                                                 \n",
            " dense_3 (Dense)             (None, 11)                14091     \n",
            "                                                                 \n",
            "=================================================================\n",
            "Total params: 4,063,655\n",
            "Trainable params: 4,021,639\n",
            "Non-trainable params: 42,016\n",
            "_________________________________________________________________\n"
          ]
        }
      ]
    },
    {
      "cell_type": "code",
      "source": [
        "from keras.callbacks import Callback, EarlyStopping, ReduceLROnPlateau\n",
        "optimizer = Adam(lr=0.000001)\n",
        "\n",
        "#early stopping to monitor the validation loss and avoid overfitting\n",
        "early_stop = EarlyStopping(monitor='val_loss', mode='min', verbose=1, patience=10, restore_best_weights=True)\n",
        "\n",
        "#reducing learning rate on plateau\n",
        "rlrop = ReduceLROnPlateau(monitor='val_loss', mode='min', patience= 2, factor= 0.5, min_lr= 1e-6, verbose=1)\n",
        "#model compiling\n",
        "model.compile(optimizer=optimizer, loss='categorical_crossentropy', metrics=['accuracy'])"
      ],
      "metadata": {
        "id": "3zTvegmUpqVN"
      },
      "execution_count": 42,
      "outputs": []
    },
    {
      "cell_type": "code",
      "source": [
        "model_history = model.fit(train_img,y, validation_data = (X_test,y_test),verbose = 2, epochs = 30)"
      ],
      "metadata": {
        "colab": {
          "base_uri": "https://localhost:8080/",
          "height": 521
        },
        "id": "mpYq8I8tQWKf",
        "outputId": "7b3afe13-dc2b-4811-82c7-70a03197065a"
      },
      "execution_count": 43,
      "outputs": [
        {
          "output_type": "stream",
          "name": "stdout",
          "text": [
            "Epoch 1/30\n",
            "27/27 - 34s - loss: 2.6870 - accuracy: 0.1026 - val_loss: 2.4003 - val_accuracy: 0.0877 - 34s/epoch - 1s/step\n",
            "Epoch 2/30\n",
            "27/27 - 21s - loss: 2.6989 - accuracy: 0.0874 - val_loss: 2.4030 - val_accuracy: 0.0877 - 21s/epoch - 777ms/step\n",
            "Epoch 3/30\n",
            "27/27 - 21s - loss: 2.6949 - accuracy: 0.0851 - val_loss: 2.4056 - val_accuracy: 0.0877 - 21s/epoch - 782ms/step\n",
            "Epoch 4/30\n",
            "27/27 - 21s - loss: 2.6601 - accuracy: 0.0769 - val_loss: 2.4083 - val_accuracy: 0.0877 - 21s/epoch - 778ms/step\n",
            "Epoch 5/30\n"
          ]
        },
        {
          "output_type": "error",
          "ename": "KeyboardInterrupt",
          "evalue": "ignored",
          "traceback": [
            "\u001b[0;31m---------------------------------------------------------------------------\u001b[0m",
            "\u001b[0;31mKeyboardInterrupt\u001b[0m                         Traceback (most recent call last)",
            "\u001b[0;32m<ipython-input-43-da29f5ec01c6>\u001b[0m in \u001b[0;36m<module>\u001b[0;34m()\u001b[0m\n\u001b[0;32m----> 1\u001b[0;31m \u001b[0mmodel_history\u001b[0m \u001b[0;34m=\u001b[0m \u001b[0mmodel\u001b[0m\u001b[0;34m.\u001b[0m\u001b[0mfit\u001b[0m\u001b[0;34m(\u001b[0m\u001b[0mtrain_img\u001b[0m\u001b[0;34m,\u001b[0m\u001b[0my\u001b[0m\u001b[0;34m,\u001b[0m \u001b[0mvalidation_data\u001b[0m \u001b[0;34m=\u001b[0m \u001b[0;34m(\u001b[0m\u001b[0mX_test\u001b[0m\u001b[0;34m,\u001b[0m\u001b[0my_test\u001b[0m\u001b[0;34m)\u001b[0m\u001b[0;34m,\u001b[0m\u001b[0mverbose\u001b[0m \u001b[0;34m=\u001b[0m \u001b[0;36m2\u001b[0m\u001b[0;34m,\u001b[0m \u001b[0mepochs\u001b[0m \u001b[0;34m=\u001b[0m \u001b[0;36m30\u001b[0m\u001b[0;34m)\u001b[0m\u001b[0;34m\u001b[0m\u001b[0;34m\u001b[0m\u001b[0m\n\u001b[0m",
            "\u001b[0;32m/usr/local/lib/python3.7/dist-packages/keras/utils/traceback_utils.py\u001b[0m in \u001b[0;36merror_handler\u001b[0;34m(*args, **kwargs)\u001b[0m\n\u001b[1;32m     62\u001b[0m     \u001b[0mfiltered_tb\u001b[0m \u001b[0;34m=\u001b[0m \u001b[0;32mNone\u001b[0m\u001b[0;34m\u001b[0m\u001b[0;34m\u001b[0m\u001b[0m\n\u001b[1;32m     63\u001b[0m     \u001b[0;32mtry\u001b[0m\u001b[0;34m:\u001b[0m\u001b[0;34m\u001b[0m\u001b[0;34m\u001b[0m\u001b[0m\n\u001b[0;32m---> 64\u001b[0;31m       \u001b[0;32mreturn\u001b[0m \u001b[0mfn\u001b[0m\u001b[0;34m(\u001b[0m\u001b[0;34m*\u001b[0m\u001b[0margs\u001b[0m\u001b[0;34m,\u001b[0m \u001b[0;34m**\u001b[0m\u001b[0mkwargs\u001b[0m\u001b[0;34m)\u001b[0m\u001b[0;34m\u001b[0m\u001b[0;34m\u001b[0m\u001b[0m\n\u001b[0m\u001b[1;32m     65\u001b[0m     \u001b[0;32mexcept\u001b[0m \u001b[0mException\u001b[0m \u001b[0;32mas\u001b[0m \u001b[0me\u001b[0m\u001b[0;34m:\u001b[0m  \u001b[0;31m# pylint: disable=broad-except\u001b[0m\u001b[0;34m\u001b[0m\u001b[0;34m\u001b[0m\u001b[0m\n\u001b[1;32m     66\u001b[0m       \u001b[0mfiltered_tb\u001b[0m \u001b[0;34m=\u001b[0m \u001b[0m_process_traceback_frames\u001b[0m\u001b[0;34m(\u001b[0m\u001b[0me\u001b[0m\u001b[0;34m.\u001b[0m\u001b[0m__traceback__\u001b[0m\u001b[0;34m)\u001b[0m\u001b[0;34m\u001b[0m\u001b[0;34m\u001b[0m\u001b[0m\n",
            "\u001b[0;32m/usr/local/lib/python3.7/dist-packages/keras/engine/training.py\u001b[0m in \u001b[0;36mfit\u001b[0;34m(self, x, y, batch_size, epochs, verbose, callbacks, validation_split, validation_data, shuffle, class_weight, sample_weight, initial_epoch, steps_per_epoch, validation_steps, validation_batch_size, validation_freq, max_queue_size, workers, use_multiprocessing)\u001b[0m\n\u001b[1;32m   1382\u001b[0m                 _r=1):\n\u001b[1;32m   1383\u001b[0m               \u001b[0mcallbacks\u001b[0m\u001b[0;34m.\u001b[0m\u001b[0mon_train_batch_begin\u001b[0m\u001b[0;34m(\u001b[0m\u001b[0mstep\u001b[0m\u001b[0;34m)\u001b[0m\u001b[0;34m\u001b[0m\u001b[0;34m\u001b[0m\u001b[0m\n\u001b[0;32m-> 1384\u001b[0;31m               \u001b[0mtmp_logs\u001b[0m \u001b[0;34m=\u001b[0m \u001b[0mself\u001b[0m\u001b[0;34m.\u001b[0m\u001b[0mtrain_function\u001b[0m\u001b[0;34m(\u001b[0m\u001b[0miterator\u001b[0m\u001b[0;34m)\u001b[0m\u001b[0;34m\u001b[0m\u001b[0;34m\u001b[0m\u001b[0m\n\u001b[0m\u001b[1;32m   1385\u001b[0m               \u001b[0;32mif\u001b[0m \u001b[0mdata_handler\u001b[0m\u001b[0;34m.\u001b[0m\u001b[0mshould_sync\u001b[0m\u001b[0;34m:\u001b[0m\u001b[0;34m\u001b[0m\u001b[0;34m\u001b[0m\u001b[0m\n\u001b[1;32m   1386\u001b[0m                 \u001b[0mcontext\u001b[0m\u001b[0;34m.\u001b[0m\u001b[0masync_wait\u001b[0m\u001b[0;34m(\u001b[0m\u001b[0;34m)\u001b[0m\u001b[0;34m\u001b[0m\u001b[0;34m\u001b[0m\u001b[0m\n",
            "\u001b[0;32m/usr/local/lib/python3.7/dist-packages/tensorflow/python/util/traceback_utils.py\u001b[0m in \u001b[0;36merror_handler\u001b[0;34m(*args, **kwargs)\u001b[0m\n\u001b[1;32m    148\u001b[0m     \u001b[0mfiltered_tb\u001b[0m \u001b[0;34m=\u001b[0m \u001b[0;32mNone\u001b[0m\u001b[0;34m\u001b[0m\u001b[0;34m\u001b[0m\u001b[0m\n\u001b[1;32m    149\u001b[0m     \u001b[0;32mtry\u001b[0m\u001b[0;34m:\u001b[0m\u001b[0;34m\u001b[0m\u001b[0;34m\u001b[0m\u001b[0m\n\u001b[0;32m--> 150\u001b[0;31m       \u001b[0;32mreturn\u001b[0m \u001b[0mfn\u001b[0m\u001b[0;34m(\u001b[0m\u001b[0;34m*\u001b[0m\u001b[0margs\u001b[0m\u001b[0;34m,\u001b[0m \u001b[0;34m**\u001b[0m\u001b[0mkwargs\u001b[0m\u001b[0;34m)\u001b[0m\u001b[0;34m\u001b[0m\u001b[0;34m\u001b[0m\u001b[0m\n\u001b[0m\u001b[1;32m    151\u001b[0m     \u001b[0;32mexcept\u001b[0m \u001b[0mException\u001b[0m \u001b[0;32mas\u001b[0m \u001b[0me\u001b[0m\u001b[0;34m:\u001b[0m\u001b[0;34m\u001b[0m\u001b[0;34m\u001b[0m\u001b[0m\n\u001b[1;32m    152\u001b[0m       \u001b[0mfiltered_tb\u001b[0m \u001b[0;34m=\u001b[0m \u001b[0m_process_traceback_frames\u001b[0m\u001b[0;34m(\u001b[0m\u001b[0me\u001b[0m\u001b[0;34m.\u001b[0m\u001b[0m__traceback__\u001b[0m\u001b[0;34m)\u001b[0m\u001b[0;34m\u001b[0m\u001b[0;34m\u001b[0m\u001b[0m\n",
            "\u001b[0;32m/usr/local/lib/python3.7/dist-packages/tensorflow/python/eager/def_function.py\u001b[0m in \u001b[0;36m__call__\u001b[0;34m(self, *args, **kwds)\u001b[0m\n\u001b[1;32m    913\u001b[0m \u001b[0;34m\u001b[0m\u001b[0m\n\u001b[1;32m    914\u001b[0m       \u001b[0;32mwith\u001b[0m \u001b[0mOptionalXlaContext\u001b[0m\u001b[0;34m(\u001b[0m\u001b[0mself\u001b[0m\u001b[0;34m.\u001b[0m\u001b[0m_jit_compile\u001b[0m\u001b[0;34m)\u001b[0m\u001b[0;34m:\u001b[0m\u001b[0;34m\u001b[0m\u001b[0;34m\u001b[0m\u001b[0m\n\u001b[0;32m--> 915\u001b[0;31m         \u001b[0mresult\u001b[0m \u001b[0;34m=\u001b[0m \u001b[0mself\u001b[0m\u001b[0;34m.\u001b[0m\u001b[0m_call\u001b[0m\u001b[0;34m(\u001b[0m\u001b[0;34m*\u001b[0m\u001b[0margs\u001b[0m\u001b[0;34m,\u001b[0m \u001b[0;34m**\u001b[0m\u001b[0mkwds\u001b[0m\u001b[0;34m)\u001b[0m\u001b[0;34m\u001b[0m\u001b[0;34m\u001b[0m\u001b[0m\n\u001b[0m\u001b[1;32m    916\u001b[0m \u001b[0;34m\u001b[0m\u001b[0m\n\u001b[1;32m    917\u001b[0m       \u001b[0mnew_tracing_count\u001b[0m \u001b[0;34m=\u001b[0m \u001b[0mself\u001b[0m\u001b[0;34m.\u001b[0m\u001b[0mexperimental_get_tracing_count\u001b[0m\u001b[0;34m(\u001b[0m\u001b[0;34m)\u001b[0m\u001b[0;34m\u001b[0m\u001b[0;34m\u001b[0m\u001b[0m\n",
            "\u001b[0;32m/usr/local/lib/python3.7/dist-packages/tensorflow/python/eager/def_function.py\u001b[0m in \u001b[0;36m_call\u001b[0;34m(self, *args, **kwds)\u001b[0m\n\u001b[1;32m    945\u001b[0m       \u001b[0;31m# In this case we have created variables on the first call, so we run the\u001b[0m\u001b[0;34m\u001b[0m\u001b[0;34m\u001b[0m\u001b[0;34m\u001b[0m\u001b[0m\n\u001b[1;32m    946\u001b[0m       \u001b[0;31m# defunned version which is guaranteed to never create variables.\u001b[0m\u001b[0;34m\u001b[0m\u001b[0;34m\u001b[0m\u001b[0;34m\u001b[0m\u001b[0m\n\u001b[0;32m--> 947\u001b[0;31m       \u001b[0;32mreturn\u001b[0m \u001b[0mself\u001b[0m\u001b[0;34m.\u001b[0m\u001b[0m_stateless_fn\u001b[0m\u001b[0;34m(\u001b[0m\u001b[0;34m*\u001b[0m\u001b[0margs\u001b[0m\u001b[0;34m,\u001b[0m \u001b[0;34m**\u001b[0m\u001b[0mkwds\u001b[0m\u001b[0;34m)\u001b[0m  \u001b[0;31m# pylint: disable=not-callable\u001b[0m\u001b[0;34m\u001b[0m\u001b[0;34m\u001b[0m\u001b[0m\n\u001b[0m\u001b[1;32m    948\u001b[0m     \u001b[0;32melif\u001b[0m \u001b[0mself\u001b[0m\u001b[0;34m.\u001b[0m\u001b[0m_stateful_fn\u001b[0m \u001b[0;32mis\u001b[0m \u001b[0;32mnot\u001b[0m \u001b[0;32mNone\u001b[0m\u001b[0;34m:\u001b[0m\u001b[0;34m\u001b[0m\u001b[0;34m\u001b[0m\u001b[0m\n\u001b[1;32m    949\u001b[0m       \u001b[0;31m# Release the lock early so that multiple threads can perform the call\u001b[0m\u001b[0;34m\u001b[0m\u001b[0;34m\u001b[0m\u001b[0;34m\u001b[0m\u001b[0m\n",
            "\u001b[0;32m/usr/local/lib/python3.7/dist-packages/tensorflow/python/eager/function.py\u001b[0m in \u001b[0;36m__call__\u001b[0;34m(self, *args, **kwargs)\u001b[0m\n\u001b[1;32m   2955\u001b[0m        filtered_flat_args) = self._maybe_define_function(args, kwargs)\n\u001b[1;32m   2956\u001b[0m     return graph_function._call_flat(\n\u001b[0;32m-> 2957\u001b[0;31m         filtered_flat_args, captured_inputs=graph_function.captured_inputs)  # pylint: disable=protected-access\n\u001b[0m\u001b[1;32m   2958\u001b[0m \u001b[0;34m\u001b[0m\u001b[0m\n\u001b[1;32m   2959\u001b[0m   \u001b[0;34m@\u001b[0m\u001b[0mproperty\u001b[0m\u001b[0;34m\u001b[0m\u001b[0;34m\u001b[0m\u001b[0m\n",
            "\u001b[0;32m/usr/local/lib/python3.7/dist-packages/tensorflow/python/eager/function.py\u001b[0m in \u001b[0;36m_call_flat\u001b[0;34m(self, args, captured_inputs, cancellation_manager)\u001b[0m\n\u001b[1;32m   1852\u001b[0m       \u001b[0;31m# No tape is watching; skip to running the function.\u001b[0m\u001b[0;34m\u001b[0m\u001b[0;34m\u001b[0m\u001b[0;34m\u001b[0m\u001b[0m\n\u001b[1;32m   1853\u001b[0m       return self._build_call_outputs(self._inference_function.call(\n\u001b[0;32m-> 1854\u001b[0;31m           ctx, args, cancellation_manager=cancellation_manager))\n\u001b[0m\u001b[1;32m   1855\u001b[0m     forward_backward = self._select_forward_and_backward_functions(\n\u001b[1;32m   1856\u001b[0m         \u001b[0margs\u001b[0m\u001b[0;34m,\u001b[0m\u001b[0;34m\u001b[0m\u001b[0;34m\u001b[0m\u001b[0m\n",
            "\u001b[0;32m/usr/local/lib/python3.7/dist-packages/tensorflow/python/eager/function.py\u001b[0m in \u001b[0;36mcall\u001b[0;34m(self, ctx, args, cancellation_manager)\u001b[0m\n\u001b[1;32m    502\u001b[0m               \u001b[0minputs\u001b[0m\u001b[0;34m=\u001b[0m\u001b[0margs\u001b[0m\u001b[0;34m,\u001b[0m\u001b[0;34m\u001b[0m\u001b[0;34m\u001b[0m\u001b[0m\n\u001b[1;32m    503\u001b[0m               \u001b[0mattrs\u001b[0m\u001b[0;34m=\u001b[0m\u001b[0mattrs\u001b[0m\u001b[0;34m,\u001b[0m\u001b[0;34m\u001b[0m\u001b[0;34m\u001b[0m\u001b[0m\n\u001b[0;32m--> 504\u001b[0;31m               ctx=ctx)\n\u001b[0m\u001b[1;32m    505\u001b[0m         \u001b[0;32melse\u001b[0m\u001b[0;34m:\u001b[0m\u001b[0;34m\u001b[0m\u001b[0;34m\u001b[0m\u001b[0m\n\u001b[1;32m    506\u001b[0m           outputs = execute.execute_with_cancellation(\n",
            "\u001b[0;32m/usr/local/lib/python3.7/dist-packages/tensorflow/python/eager/execute.py\u001b[0m in \u001b[0;36mquick_execute\u001b[0;34m(op_name, num_outputs, inputs, attrs, ctx, name)\u001b[0m\n\u001b[1;32m     53\u001b[0m     \u001b[0mctx\u001b[0m\u001b[0;34m.\u001b[0m\u001b[0mensure_initialized\u001b[0m\u001b[0;34m(\u001b[0m\u001b[0;34m)\u001b[0m\u001b[0;34m\u001b[0m\u001b[0;34m\u001b[0m\u001b[0m\n\u001b[1;32m     54\u001b[0m     tensors = pywrap_tfe.TFE_Py_Execute(ctx._handle, device_name, op_name,\n\u001b[0;32m---> 55\u001b[0;31m                                         inputs, attrs, num_outputs)\n\u001b[0m\u001b[1;32m     56\u001b[0m   \u001b[0;32mexcept\u001b[0m \u001b[0mcore\u001b[0m\u001b[0;34m.\u001b[0m\u001b[0m_NotOkStatusException\u001b[0m \u001b[0;32mas\u001b[0m \u001b[0me\u001b[0m\u001b[0;34m:\u001b[0m\u001b[0;34m\u001b[0m\u001b[0;34m\u001b[0m\u001b[0m\n\u001b[1;32m     57\u001b[0m     \u001b[0;32mif\u001b[0m \u001b[0mname\u001b[0m \u001b[0;32mis\u001b[0m \u001b[0;32mnot\u001b[0m \u001b[0;32mNone\u001b[0m\u001b[0;34m:\u001b[0m\u001b[0;34m\u001b[0m\u001b[0;34m\u001b[0m\u001b[0m\n",
            "\u001b[0;31mKeyboardInterrupt\u001b[0m: "
          ]
        }
      ]
    },
    {
      "cell_type": "markdown",
      "metadata": {
        "id": "t6P1jr6yac4B"
      },
      "source": [
        "##제출하기"
      ]
    },
    {
      "cell_type": "code",
      "execution_count": null,
      "metadata": {
        "id": "tnOFb21IalBR"
      },
      "outputs": [],
      "source": [
        "preds=model1.predict(test_img)\n",
        "result=[]\n",
        "class_prediction=np.argmax(preds[0])\n",
        "for i in range(0,len(test_img)):\n",
        "    result.append(np.argmax(preds[i]))\n",
        "print(result)"
      ]
    },
    {
      "cell_type": "code",
      "execution_count": null,
      "metadata": {
        "id": "pgz3cJeEx4lP"
      },
      "outputs": [],
      "source": [
        "submission=pd.read_csv('sample_submission.csv')\n"
      ]
    },
    {
      "cell_type": "code",
      "execution_count": null,
      "metadata": {
        "id": "9ut2zGx32bps"
      },
      "outputs": [],
      "source": [
        "submission['label']=result\n",
        "submission"
      ]
    },
    {
      "cell_type": "code",
      "execution_count": null,
      "metadata": {
        "id": "eHoQYMwV4pR5"
      },
      "outputs": [],
      "source": [
        "submission['label'][submission['label'] == 10] = '10-1' ## label : 10 -> '10-1'\n",
        "submission['label'][submission['label'] == 0] = '10-2' ## Label : 0 -> '10-2'\n",
        "submission['label'] = submission['label'].apply(lambda x : str(x))"
      ]
    },
    {
      "cell_type": "code",
      "execution_count": null,
      "metadata": {
        "id": "MeRPwpISb2AX"
      },
      "outputs": [],
      "source": [
        "print(submission.head())\n",
        "print(submission.tail())"
      ]
    },
    {
      "cell_type": "code",
      "execution_count": null,
      "metadata": {
        "id": "Ojj6wXYcb6lE"
      },
      "outputs": [],
      "source": [
        "submission.to_csv('fin_submit.csv',index=False)"
      ]
    },
    {
      "cell_type": "code",
      "execution_count": null,
      "metadata": {
        "id": "uHyn6nRrcBXC"
      },
      "outputs": [],
      "source": [
        ""
      ]
    }
  ],
  "metadata": {
    "colab": {
      "collapsed_sections": [],
      "name": "MNIST2.ipynb",
      "provenance": []
    },
    "kernelspec": {
      "display_name": "Python 3",
      "name": "python3"
    },
    "language_info": {
      "name": "python"
    }
  },
  "nbformat": 4,
  "nbformat_minor": 0
}